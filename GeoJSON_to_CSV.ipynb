{
  "nbformat": 4,
  "nbformat_minor": 0,
  "metadata": {
    "colab": {
      "provenance": []
    },
    "kernelspec": {
      "name": "python3",
      "display_name": "Python 3"
    },
    "language_info": {
      "name": "python"
    }
  },
  "cells": [
    {
      "cell_type": "markdown",
      "source": [
        "# **Southeast Asia GeoGuessr Project**\n",
        "## GeoJSON to .csv File Converter"
      ],
      "metadata": {
        "id": "wrJcbm9VZZde"
      }
    },
    {
      "cell_type": "markdown",
      "source": [
        "This notebook contains the pipeline code that converts .json files obtained from Overpass Turbo into .csv files."
      ],
      "metadata": {
        "id": "Tep6HLraZl3Z"
      }
    },
    {
      "cell_type": "markdown",
      "source": [
        "For each country, we will have these characteristics:\n",
        "\n",
        "- **Philippines:** Beaches, Cities/towns, Countryside (farmland), Mountains, Forest/jungle, Roads (urban and rural)\n",
        "- **Thailand:** Beaches, temples, cities/towns, mountains, jungle/forest, farmlands (countryside), marketplaces\n",
        "- **Malaysia:** Beaches, jungles, cities/town, countryside (farmland), mosques, mountains\n",
        "- **Indonesia:** Beaches, volcanoes/mountains, cities/towns, jungles, countryside, temples\n",
        "\n",
        "\n"
      ],
      "metadata": {
        "id": "m_ecfgFQnZXS"
      }
    },
    {
      "cell_type": "code",
      "source": [
        "import geopandas as gpd\n",
        "import pandas as pd\n",
        "import requests\n",
        "import time"
      ],
      "metadata": {
        "id": "4oUiphzxa-kA"
      },
      "execution_count": null,
      "outputs": []
    },
    {
      "cell_type": "code",
      "source": [
        "# Your API key here\n",
        "API_KEY = \"API_key\"  # API key removed for privacy purposes"
      ],
      "metadata": {
        "id": "IrcBGlLk7sK7"
      },
      "execution_count": null,
      "outputs": []
    },
    {
      "cell_type": "code",
      "source": [
        "# Define Street View availability checker -- because we need to make sure the coordinates listed are actually on the system\n",
        "def has_street_view(lat, lon, api_key):\n",
        "    url = f\"https://maps.googleapis.com/maps/api/streetview/metadata?location={lat},{lon}&key={api_key}\"\n",
        "    try:\n",
        "        response = requests.get(url)\n",
        "        data = response.json()\n",
        "        return data.get(\"status\") == \"OK\"\n",
        "    except Exception as e:\n",
        "        print(f\"Error checking ({lat}, {lon}): {e}\")\n",
        "        return False"
      ],
      "metadata": {
        "id": "LSgm-DGrtBqh"
      },
      "execution_count": null,
      "outputs": []
    },
    {
      "cell_type": "markdown",
      "source": [
        "## **Philippines**"
      ],
      "metadata": {
        "id": "-5IR4p_PERTx"
      }
    },
    {
      "cell_type": "markdown",
      "source": [
        "**Beaches**"
      ],
      "metadata": {
        "id": "mE0LkmqNaCM0"
      }
    },
    {
      "cell_type": "code",
      "source": [
        "# Query code to find beaches in the Philippines - copy and paste this into Overpass Turbo to generate .geojson file\n",
        "\n",
        "[out:json][timeout:25];\n",
        "area[\"name\"=\"Philippines\"]->.searchArea;\n",
        "(\n",
        "  node[\"natural\"=\"beach\"](area.searchArea);\n",
        "  way[\"natural\"=\"beach\"](area.searchArea);\n",
        "  relation[\"natural\"=\"beach\"](area.searchArea);\n",
        ");\n",
        "out center;"
      ],
      "metadata": {
        "id": "jJAcBEMZZ1_n"
      },
      "execution_count": null,
      "outputs": []
    },
    {
      "cell_type": "code",
      "source": [
        "# Load GeoJSON file\n",
        "gdf_beach_ph = gpd.read_file(\"beach_ph.geojson\")\n",
        "\n",
        "# Extract lat/lon from geometry\n",
        "gdf_beach_ph[\"lat\"] = gdf_beach_ph.geometry.y\n",
        "gdf_beach_ph[\"lon\"] = gdf_beach_ph.geometry.x\n",
        "\n",
        "# Add scene type and country\n",
        "gdf_beach_ph[\"scene_type\"] = \"beach\"\n",
        "gdf_beach_ph[\"country\"] = \"Philippines\"\n",
        "\n",
        "# Select the relevant columns\n",
        "df_beach_ph = gdf_beach_ph[[\"country\", \"scene_type\", \"lat\", \"lon\"]]\n",
        "\n",
        "# Save full unsampled CSV\n",
        "df_beach_ph.to_csv(\"beach_ph_full.csv\", index=False)\n",
        "print(f\"Saved full coordinate list: {len(df_beach_ph)} rows\")"
      ],
      "metadata": {
        "colab": {
          "base_uri": "https://localhost:8080/"
        },
        "id": "kVspfH7-22v3",
        "outputId": "85b1dbac-519f-4d23-c95e-b5faeb32aa74"
      },
      "execution_count": null,
      "outputs": [
        {
          "output_type": "stream",
          "name": "stdout",
          "text": [
            "✅ Saved full coordinate list: 3574 rows\n"
          ]
        }
      ]
    },
    {
      "cell_type": "code",
      "source": [
        "# Check each point for Street View availability\n",
        "filtered_rows = []\n",
        "print(\"🔍 Checking for Street View imagery...\")\n",
        "\n",
        "for idx, row in df_beach_ph.iterrows():\n",
        "    lat, lon = row[\"lat\"], row[\"lon\"]\n",
        "    if has_street_view(lat, lon, API_KEY):\n",
        "        filtered_rows.append(row)\n",
        "        if len(filtered_rows) >= 150:  # Stop once we have 150 samples\n",
        "            print(\"Reached 150 available samples, stopping early.\")\n",
        "            break\n",
        "    time.sleep(0.1)  # Respect API rate limits\n",
        "\n",
        "# Create filtered DataFrame and save\n",
        "df_beach_ph_available = pd.DataFrame(filtered_rows)\n",
        "df_beach_ph_available.to_csv(\"beach_ph_with_streetview.csv\", index=False)\n",
        "print(f\"Filtered: {len(df_beach_ph_available)} coordinates with Street View\")\n",
        "\n",
        "# Since you already stopped at 150, this just saves your filtered sample:\n",
        "df_beach_ph_sampled = df_beach_ph_available.copy()\n",
        "df_beach_ph_sampled.to_csv(\"beach_ph_final_sample.csv\", index=False)\n",
        "print(f\"Final sample saved: {len(df_beach_ph_sampled)} rows to beach_ph_final_sample.csv\")"
      ],
      "metadata": {
        "colab": {
          "base_uri": "https://localhost:8080/"
        },
        "id": "Jiqqq-OB3DS5",
        "outputId": "afb2b999-7f2e-4111-898c-8e3c4508aa90"
      },
      "execution_count": null,
      "outputs": [
        {
          "output_type": "stream",
          "name": "stdout",
          "text": [
            "🔍 Checking for Street View imagery...\n",
            "✅ Filtered: 529 coordinates with Street View\n",
            "📦 Final sample saved: 150 rows to beach_ph_final_sample.csv\n"
          ]
        }
      ]
    },
    {
      "cell_type": "markdown",
      "source": [
        "**Cities**"
      ],
      "metadata": {
        "id": "vtxwjAUQdNVL"
      }
    },
    {
      "cell_type": "code",
      "source": [
        "# Query code to find cities and towns in the Philippines - copy and paste this into Overpass Turbo to generate .geojson file\n",
        "\n",
        "[out:json][timeout:25];\n",
        "area[\"name\"=\"Philippines\"]->.searchArea;\n",
        "(\n",
        "  node[\"place\"=\"city\"](area.searchArea);\n",
        "  node[\"place\"=\"town\"](area.searchArea);\n",
        ");\n",
        "out;"
      ],
      "metadata": {
        "id": "5UBFZs1DbIBN"
      },
      "execution_count": null,
      "outputs": []
    },
    {
      "cell_type": "code",
      "source": [
        "gdf_city_town_ph = gpd.read_file(\"city_town_ph.geojson\")\n",
        "\n",
        "# Extract lat/lon from geometry\n",
        "gdf_city_town_ph[\"lat\"] = gdf_city_town_ph.geometry.y\n",
        "gdf_city_town_ph[\"lon\"] = gdf_city_town_ph.geometry.x\n",
        "\n",
        "# Add scene type and country\n",
        "gdf_city_town_ph[\"scene_type\"] = \"city_town\"\n",
        "gdf_city_town_ph[\"country\"] = \"Philippines\"\n",
        "\n",
        "# Select the relevant columns\n",
        "df_city_town_ph = gdf_city_town_ph[[\"country\", \"scene_type\", \"lat\", \"lon\"]]\n",
        "\n",
        "# Save full unsampled CSV\n",
        "df_city_town_ph.to_csv(\"city_town_ph_full.csv\", index=False)\n",
        "print(f\"Saved full coordinate list: {len(df_city_town_ph)} rows\")"
      ],
      "metadata": {
        "colab": {
          "base_uri": "https://localhost:8080/"
        },
        "id": "FNbxIXwq8Kzf",
        "outputId": "2f308620-0191-4906-ce81-e2656639d896"
      },
      "execution_count": null,
      "outputs": [
        {
          "output_type": "stream",
          "name": "stdout",
          "text": [
            "✅ Saved full coordinate list: 1651 rows\n"
          ]
        }
      ]
    },
    {
      "cell_type": "code",
      "source": [
        "filtered_rows = []\n",
        "print(\"🔍 Checking for Street View imagery...\")\n",
        "\n",
        "for idx, row in df_city_town_ph.iterrows():\n",
        "    lat, lon = row[\"lat\"], row[\"lon\"]\n",
        "    if has_street_view(lat, lon, API_KEY):\n",
        "        filtered_rows.append(row)\n",
        "        if len(filtered_rows) >= 150:  # Stop once we have 150 samples\n",
        "            print(\"🎯 Reached 150 available samples, stopping early.\")\n",
        "            break\n",
        "    time.sleep(0.1)  # Respect API rate limits\n",
        "\n",
        "# Create filtered DataFrame and save\n",
        "df_city_town_ph_available = pd.DataFrame(filtered_rows)\n",
        "df_city_town_ph_available.to_csv(\"city_town_ph_with_streetview.csv\", index=False)\n",
        "print(f\"Filtered: {len(df_city_town_ph_available)} coordinates with Street View\")\n",
        "\n",
        "# Since you already stopped at 150, this just saves your filtered sample:\n",
        "df_city_town_ph_sampled = df_city_town_ph_available.copy()\n",
        "df_city_town_ph_sampled.to_csv(\"city_town_ph_final_sample.csv\", index=False)\n",
        "print(f\"Final sample saved: {len(df_city_town_ph_sampled)} rows to city_town_ph_final_sample.csv\")"
      ],
      "metadata": {
        "colab": {
          "base_uri": "https://localhost:8080/"
        },
        "id": "C4MNY_vk8LjY",
        "outputId": "4daf2519-fdc3-4501-ea93-fb31509e8cdd"
      },
      "execution_count": null,
      "outputs": [
        {
          "output_type": "stream",
          "name": "stdout",
          "text": [
            "🔍 Checking for Street View imagery...\n",
            "🎯 Reached 150 available samples, stopping early.\n",
            "✅ Filtered: 150 coordinates with Street View\n",
            "📦 Final sample saved: 150 rows to city_town_ph_final_sample.csv\n"
          ]
        }
      ]
    },
    {
      "cell_type": "markdown",
      "source": [
        "**Countryside/Farmland**"
      ],
      "metadata": {
        "id": "MFUtpjxTetY9"
      }
    },
    {
      "cell_type": "code",
      "source": [
        "# Query code to find countryside and farmland in the Philippines - copy and paste this into Overpass Turbo to generate .geojson file\n",
        "\n",
        "[out:json][timeout:25];\n",
        "area[\"name\"=\"Philippines\"]->.searchArea;\n",
        "(\n",
        "  node[\"landuse\"=\"farmland\"](area.searchArea);\n",
        "  way[\"landuse\"=\"farmland\"](area.searchArea);\n",
        "  relation[\"landuse\"=\"farmland\"](area.searchArea);\n",
        ");\n",
        "out center;"
      ],
      "metadata": {
        "id": "qX7v7zULeRR_"
      },
      "execution_count": null,
      "outputs": []
    },
    {
      "cell_type": "code",
      "source": [
        "gdf_countryside_ph = gpd.read_file(\"countryside_ph.geojson\")\n",
        "\n",
        "# Reproject to projected CRS for accurate centroid calculation\n",
        "gdf_countryside_ph_proj = gdf_countryside_ph.to_crs(epsg=32651)\n",
        "\n",
        "# Calculate centroids in projected CRS\n",
        "gdf_countryside_ph_proj['centroid'] = gdf_countryside_ph_proj.geometry.centroid\n",
        "\n",
        "# Convert centroids back to WGS84 (lat/lon)\n",
        "gdf_countryside_ph_centroids = gdf_countryside_ph_proj.set_geometry('centroid').to_crs(epsg=4326)\n",
        "\n",
        "# Extract lat/lon from centroids and assign back to original GeoDataFrame\n",
        "gdf_countryside_ph[\"lat\"] = gdf_countryside_ph_centroids.geometry.y\n",
        "gdf_countryside_ph[\"lon\"] = gdf_countryside_ph_centroids.geometry.x\n",
        "\n",
        "# Add scene type and country\n",
        "gdf_countryside_ph[\"scene_type\"] = \"countryside\"\n",
        "gdf_countryside_ph[\"country\"] = \"Philippines\"\n",
        "\n",
        "# Select relevant columns\n",
        "df_countryside_ph = gdf_countryside_ph[[\"country\", \"scene_type\", \"lat\", \"lon\"]]\n",
        "\n",
        "# Save full CSV\n",
        "df_countryside_ph.to_csv(\"countryside_ph_full.csv\", index=False)\n",
        "print(f\"Saved full coordinate list: {len(df_countryside_ph)} rows\")"
      ],
      "metadata": {
        "id": "lJ5hm-SdfphN",
        "colab": {
          "base_uri": "https://localhost:8080/"
        },
        "outputId": "4216e67e-1aba-486c-d7cd-be7fe29aa5a3"
      },
      "execution_count": null,
      "outputs": [
        {
          "output_type": "stream",
          "name": "stdout",
          "text": [
            "✅ Saved full coordinate list: 69617 rows\n"
          ]
        }
      ]
    },
    {
      "cell_type": "code",
      "source": [
        "filtered_rows = []\n",
        "print(\"🔍 Checking for Street View imagery...\")\n",
        "\n",
        "for idx, row in df_countryside_ph.iterrows():\n",
        "    lat, lon = row[\"lat\"], row[\"lon\"]\n",
        "    if has_street_view(lat, lon, API_KEY):\n",
        "        filtered_rows.append(row)\n",
        "        if len(filtered_rows) >= 150:\n",
        "            print(\"🎯 Reached 150 available samples, stopping early.\")\n",
        "            break\n",
        "    time.sleep(0.1)  # Respect API rate limits\n",
        "\n",
        "# Save filtered and final sampled CSVs\n",
        "df_countryside_ph_available = pd.DataFrame(filtered_rows)\n",
        "df_countryside_ph_available.to_csv(\"countryside_ph_with_streetview.csv\", index=False)\n",
        "print(f\"Filtered: {len(df_countryside_ph_available)} coordinates with Street View\")\n",
        "\n",
        "df_countryside_ph_sampled = df_countryside_ph_available.copy()\n",
        "df_countryside_ph_sampled.to_csv(\"countryside_ph_final_sample.csv\", index=False)\n",
        "print(f\"Final sample saved: {len(df_countryside_ph_sampled)} rows to countryside_ph_final_sample.csv\")"
      ],
      "metadata": {
        "colab": {
          "base_uri": "https://localhost:8080/"
        },
        "id": "ofxDDVW-9Dt1",
        "outputId": "3081030f-f828-471a-89ea-1ddc462facf4"
      },
      "execution_count": null,
      "outputs": [
        {
          "output_type": "stream",
          "name": "stdout",
          "text": [
            "🔍 Checking for Street View imagery...\n",
            "🎯 Reached 150 available samples, stopping early.\n",
            "✅ Filtered: 150 coordinates with Street View\n",
            "📦 Final sample saved: 150 rows to countryside_ph_final_sample.csv\n"
          ]
        }
      ]
    },
    {
      "cell_type": "markdown",
      "source": [
        "**Mountains**"
      ],
      "metadata": {
        "id": "FmZqtgQBgvA6"
      }
    },
    {
      "cell_type": "code",
      "source": [
        "# Query code to find mountains in the Philippines - copy and paste this into Overpass Turbo to generate .geojson file\n",
        "[out:json][timeout:25];\n",
        "area[\"name\"=\"Philippines\"]->.searchArea;\n",
        "(\n",
        "  node[\"natural\"=\"peak\"](area.searchArea);\n",
        "  way[\"natural\"=\"peak\"](area.searchArea);\n",
        "  relation[\"natural\"=\"peak\"](area.searchArea);\n",
        ");\n",
        "out center;"
      ],
      "metadata": {
        "id": "wemZxskegYS9"
      },
      "execution_count": null,
      "outputs": []
    },
    {
      "cell_type": "code",
      "source": [
        "gdf_mountains_ph = gpd.read_file(\"mountains_ph.geojson\")\n",
        "\n",
        "# Reproject to projected CRS for accurate centroid calculation (e.g., UTM zone 51N)\n",
        "gdf_mountains_ph_proj = gdf_mountains_ph.to_crs(epsg=32651)\n",
        "\n",
        "# Calculate centroids in projected CRS\n",
        "gdf_mountains_ph_proj['centroid'] = gdf_mountains_ph_proj.geometry.centroid\n",
        "\n",
        "# Convert centroids back to WGS84 (lat/lon)\n",
        "gdf_mountains_ph_centroids = gdf_mountains_ph_proj.set_geometry('centroid').to_crs(epsg=4326)\n",
        "\n",
        "# Extract lat/lon from centroids and assign back to original GeoDataFrame\n",
        "gdf_mountains_ph[\"lat\"] = gdf_mountains_ph_centroids.geometry.y\n",
        "gdf_mountains_ph[\"lon\"] = gdf_mountains_ph_centroids.geometry.x\n",
        "\n",
        "# Add scene type and country\n",
        "gdf_mountains_ph[\"scene_type\"] = \"mountain\"\n",
        "gdf_mountains_ph[\"country\"] = \"Philippines\"\n",
        "\n",
        "# Select relevant columns\n",
        "df_mountains_ph = gdf_mountains_ph[[\"country\", \"scene_type\", \"lat\", \"lon\"]]\n",
        "\n",
        "# Save full CSV\n",
        "df_mountains_ph.to_csv(\"mountains_ph_full.csv\", index=False)\n",
        "print(f\"Saved full coordinate list: {len(df_mountains_ph)} rows\")"
      ],
      "metadata": {
        "id": "qO8PQ5t1hKkm",
        "colab": {
          "base_uri": "https://localhost:8080/"
        },
        "outputId": "89ea7cab-5f5c-49de-9ce3-d09a453415cb"
      },
      "execution_count": null,
      "outputs": [
        {
          "output_type": "stream",
          "name": "stdout",
          "text": [
            "✅ Saved full coordinate list: 13152 rows\n"
          ]
        }
      ]
    },
    {
      "cell_type": "code",
      "source": [
        "filtered_rows = []\n",
        "print(\"🔍 Checking for Street View imagery...\")\n",
        "\n",
        "for idx, row in df_mountains_ph.iterrows():\n",
        "    lat, lon = row[\"lat\"], row[\"lon\"]\n",
        "    if has_street_view(lat, lon, API_KEY):\n",
        "        filtered_rows.append(row)\n",
        "        if len(filtered_rows) >= 150:\n",
        "            print(\"🎯 Reached 150 available samples, stopping early.\")\n",
        "            break\n",
        "    time.sleep(0.1)  # Respect API rate limits\n",
        "\n",
        "# Save filtered and final sampled CSVs\n",
        "df_mountains_ph_available = pd.DataFrame(filtered_rows)\n",
        "df_mountains_ph_available.to_csv(\"mountains_ph_with_streetview.csv\", index=False)\n",
        "print(f\"Filtered: {len(df_mountains_ph_available)} coordinates with Street View\")\n",
        "\n",
        "df_mountains_ph_sampled = df_mountains_ph_available.copy()\n",
        "df_mountains_ph_sampled.to_csv(\"mountains_ph_final_sample.csv\", index=False)\n",
        "print(f\"Final sample saved: {len(df_mountains_ph_sampled)} rows to mountains_ph_final_sample.csv\")"
      ],
      "metadata": {
        "colab": {
          "base_uri": "https://localhost:8080/"
        },
        "id": "XkF2Xxz3-798",
        "outputId": "64b61710-56c5-4d5e-85d7-e816e1dc2956"
      },
      "execution_count": null,
      "outputs": [
        {
          "output_type": "stream",
          "name": "stdout",
          "text": [
            "🔍 Checking for Street View imagery...\n",
            "🎯 Reached 150 available samples, stopping early.\n",
            "✅ Filtered: 150 coordinates with Street View\n",
            "📦 Final sample saved: 150 rows to mountains_ph_final_sample.csv\n"
          ]
        }
      ]
    },
    {
      "cell_type": "markdown",
      "source": [
        "**Forests/Jungles**"
      ],
      "metadata": {
        "id": "yCchcjEohxFO"
      }
    },
    {
      "cell_type": "code",
      "source": [
        "# Query code to find forests/jungles in the Philippines - copy and paste this into Overpass Turbo to generate .geojson file\n",
        "[out:json][timeout:25];\n",
        "area[\"name\"=\"Philippines\"]->.searchArea;\n",
        "(\n",
        "  node[\"landuse\"=\"forest\"](area.searchArea);\n",
        "  way[\"landuse\"=\"forest\"](area.searchArea);\n",
        "  relation[\"landuse\"=\"forest\"](area.searchArea);\n",
        ");\n",
        "out center;"
      ],
      "metadata": {
        "id": "qzudHVfxhkg6"
      },
      "execution_count": null,
      "outputs": []
    },
    {
      "cell_type": "code",
      "source": [
        "gdf_forest_ph = gpd.read_file(\"jungle_forest_ph.geojson\")\n",
        "\n",
        "# Reproject to projected CRS for accurate centroid calculation (e.g., UTM zone 51N)\n",
        "gdf_forest_ph_proj = gdf_forest_ph.to_crs(epsg=32651)\n",
        "\n",
        "# Calculate centroids in projected CRS\n",
        "gdf_forest_ph_proj['centroid'] = gdf_forest_ph_proj.geometry.centroid\n",
        "\n",
        "# Convert centroids back to WGS84 (lat/lon)\n",
        "gdf_forest_ph_centroids = gdf_forest_ph_proj.set_geometry('centroid').to_crs(epsg=4326)\n",
        "\n",
        "# Extract lat/lon from centroids and assign back to original GeoDataFrame\n",
        "gdf_forest_ph[\"lat\"] = gdf_forest_ph_centroids.geometry.y\n",
        "gdf_forest_ph[\"lon\"] = gdf_forest_ph_centroids.geometry.x\n",
        "\n",
        "# Add scene type and country\n",
        "gdf_forest_ph[\"scene_type\"] = \"forest\"\n",
        "gdf_forest_ph[\"country\"] = \"Philippines\"\n",
        "\n",
        "# Select relevant columns\n",
        "df_forest_ph = gdf_forest_ph[[\"country\", \"scene_type\", \"lat\", \"lon\"]]\n",
        "\n",
        "# Save full CSV\n",
        "df_forest_ph.to_csv(\"forest_ph_full.csv\", index=False)\n",
        "print(f\"Saved full coordinate list: {len(df_forest_ph)} rows\")"
      ],
      "metadata": {
        "id": "664x_2yboo1o",
        "colab": {
          "base_uri": "https://localhost:8080/"
        },
        "outputId": "8b52b64a-f00d-49f7-ace6-434305640ceb"
      },
      "execution_count": null,
      "outputs": [
        {
          "output_type": "stream",
          "name": "stdout",
          "text": [
            "✅ Saved full coordinate list: 3677 rows\n"
          ]
        }
      ]
    },
    {
      "cell_type": "code",
      "source": [
        "filtered_rows = []\n",
        "print(\"🔍 Checking for Street View imagery...\")\n",
        "\n",
        "for idx, row in df_forest_ph.iterrows():\n",
        "    lat, lon = row[\"lat\"], row[\"lon\"]\n",
        "    if has_street_view(lat, lon, API_KEY):\n",
        "        filtered_rows.append(row)\n",
        "        if len(filtered_rows) >= 150:\n",
        "            print(\"🎯 Reached 150 available samples, stopping early.\")\n",
        "            break\n",
        "    time.sleep(0.1)  # Respect API rate limits\n",
        "\n",
        "# Save filtered and final sampled CSVs\n",
        "df_forest_ph_available = pd.DataFrame(filtered_rows)\n",
        "df_forest_ph_available.to_csv(\"forest_ph_with_streetview.csv\", index=False)\n",
        "print(f\"Filtered: {len(df_forest_ph_available)} coordinates with Street View\")\n",
        "\n",
        "df_forest_ph_sampled = df_forest_ph_available.copy()\n",
        "df_forest_ph_sampled.to_csv(\"forest_ph_final_sample.csv\", index=False)\n",
        "print(f\"Final sample saved: {len(df_forest_ph_sampled)} rows to forest_ph_final_sample.csv\")"
      ],
      "metadata": {
        "colab": {
          "base_uri": "https://localhost:8080/"
        },
        "id": "0Ytz1hr5_Kdr",
        "outputId": "0342ae75-e1f4-4053-9317-e34301bbf0e2"
      },
      "execution_count": null,
      "outputs": [
        {
          "output_type": "stream",
          "name": "stdout",
          "text": [
            "🔍 Checking for Street View imagery...\n",
            "🎯 Reached 150 available samples, stopping early.\n",
            "✅ Filtered: 150 coordinates with Street View\n",
            "📦 Final sample saved: 150 rows to forest_ph_final_sample.csv\n"
          ]
        }
      ]
    },
    {
      "cell_type": "markdown",
      "source": [
        "**Major Roads (Urban and Rural)**"
      ],
      "metadata": {
        "id": "U673Ga9ViBl2"
      }
    },
    {
      "cell_type": "code",
      "source": [
        "# Query code to find major roads in the Philippines - copy and paste this into Overpass Turbo to generate .geojson file\n",
        "[out:json][timeout:25];\n",
        "area[\"name\"=\"Philippines\"]->.searchArea;\n",
        "(\n",
        "  way[\"highway\"=\"primary\"](area.searchArea);\n",
        ");\n",
        "out center;"
      ],
      "metadata": {
        "id": "U7aEP-yjiGtK"
      },
      "execution_count": null,
      "outputs": []
    },
    {
      "cell_type": "code",
      "source": [
        "gdf_roads_ph = gpd.read_file(\"roads_ph.geojson\")\n",
        "\n",
        "# Reproject to projected CRS for accurate centroid calculation (e.g., UTM zone 51N)\n",
        "gdf_roads_ph_proj = gdf_roads_ph.to_crs(epsg=32651)\n",
        "\n",
        "# Calculate centroids in projected CRS\n",
        "gdf_roads_ph_proj['centroid'] = gdf_roads_ph_proj.geometry.centroid\n",
        "\n",
        "# Convert centroids back to WGS84 (lat/lon)\n",
        "gdf_roads_ph_centroids = gdf_roads_ph_proj.set_geometry('centroid').to_crs(epsg=4326)\n",
        "\n",
        "# Extract lat/lon from centroids and assign back to original GeoDataFrame\n",
        "gdf_roads_ph[\"lat\"] = gdf_roads_ph_centroids.geometry.y\n",
        "gdf_roads_ph[\"lon\"] = gdf_roads_ph_centroids.geometry.x\n",
        "\n",
        "# Add scene type and country\n",
        "gdf_roads_ph[\"scene_type\"] = \"road\"\n",
        "gdf_roads_ph[\"country\"] = \"Philippines\"\n",
        "\n",
        "# Select relevant columns\n",
        "df_roads_ph = gdf_roads_ph[[\"country\", \"scene_type\", \"lat\", \"lon\"]]\n",
        "\n",
        "# Save full CSV\n",
        "df_roads_ph.to_csv(\"roads_ph_full.csv\", index=False)\n",
        "print(f\"Saved full coordinate list: {len(df_roads_ph)} rows\")"
      ],
      "metadata": {
        "id": "zrr9wIUupqv-",
        "colab": {
          "base_uri": "https://localhost:8080/"
        },
        "outputId": "ef5a99cb-4ea9-4e52-95ed-761685bd9636"
      },
      "execution_count": null,
      "outputs": [
        {
          "output_type": "stream",
          "name": "stdout",
          "text": [
            "✅ Saved full coordinate list: 22717 rows\n"
          ]
        }
      ]
    },
    {
      "cell_type": "code",
      "source": [
        "filtered_rows = []\n",
        "print(\"🔍 Checking for Street View imagery...\")\n",
        "\n",
        "for idx, row in df_roads_ph.iterrows():\n",
        "    lat, lon = row[\"lat\"], row[\"lon\"]\n",
        "    if has_street_view(lat, lon, API_KEY):\n",
        "        filtered_rows.append(row)\n",
        "        if len(filtered_rows) >= 150:\n",
        "            print(\"🎯 Reached 150 available samples, stopping early.\")\n",
        "            break\n",
        "    time.sleep(0.1)  # Respect API rate limits\n",
        "\n",
        "# Save filtered and final sampled CSVs\n",
        "df_roads_ph_available = pd.DataFrame(filtered_rows)\n",
        "df_roads_ph_available.to_csv(\"roads_ph_with_streetview.csv\", index=False)\n",
        "print(f\"Filtered: {len(df_roads_ph_available)} coordinates with Street View\")\n",
        "\n",
        "df_roads_ph_sampled = df_roads_ph_available.copy()\n",
        "df_roads_ph_sampled.to_csv(\"roads_ph_final_sample.csv\", index=False)\n",
        "print(f\"Final sample saved: {len(df_roads_ph_sampled)} rows to roads_ph_final_sample.csv\")"
      ],
      "metadata": {
        "id": "SXydeaIAp6kZ",
        "colab": {
          "base_uri": "https://localhost:8080/"
        },
        "outputId": "ee9733a5-99fb-4d20-d74e-55d6c0cd55c2"
      },
      "execution_count": null,
      "outputs": [
        {
          "output_type": "stream",
          "name": "stdout",
          "text": [
            "🔍 Checking for Street View imagery...\n",
            "🎯 Reached 150 available samples, stopping early.\n",
            "✅ Filtered: 150 coordinates with Street View\n",
            "📦 Final sample saved: 150 rows to roads_ph_final_sample.csv\n"
          ]
        }
      ]
    },
    {
      "cell_type": "markdown",
      "source": [
        "## **Thailand**"
      ],
      "metadata": {
        "id": "xlrqOhbcETp3"
      }
    },
    {
      "cell_type": "markdown",
      "source": [
        "**Note:** Note that this query doesn't work for the english name Thailand and will rather work if ราชอาณาจักรไทย is used instead. So to fix that problem, we use the \"geocodeArea:Thailand\" instead."
      ],
      "metadata": {
        "id": "JWRIterNqzSx"
      }
    },
    {
      "cell_type": "markdown",
      "source": [
        "**Beaches**"
      ],
      "metadata": {
        "id": "qKiyeuNgnzUR"
      }
    },
    {
      "cell_type": "code",
      "source": [
        "# Query code to find beaches in Thailand - copy and paste this into Overpass Turbo to generate .geojson file\n",
        "\n",
        "[out:json][timeout:25];\n",
        "{{geocodeArea:Thailand}}->.searchArea;\n",
        "(\n",
        "  node[\"natural\"=\"beach\"](area.searchArea);\n",
        "  way[\"natural\"=\"beach\"](area.searchArea);\n",
        "  relation[\"natural\"=\"beach\"](area.searchArea);\n",
        ");\n",
        "out center;\n"
      ],
      "metadata": {
        "id": "AYbT4NI1C48N"
      },
      "execution_count": null,
      "outputs": []
    },
    {
      "cell_type": "code",
      "source": [
        "gdf_beach_th = gpd.read_file(\"beach_th.geojson\")\n",
        "\n",
        "# Reproject to projected CRS for accurate centroid calculation\n",
        "gdf_beach_th_proj = gdf_beach_th.to_crs(epsg=32647)  # UTM zone for Thailand\n",
        "\n",
        "# Calculate centroids in projected CRS\n",
        "gdf_beach_th_proj['centroid'] = gdf_beach_th_proj.geometry.centroid\n",
        "\n",
        "# Convert centroids back to WGS84 (lat/lon)\n",
        "gdf_beach_th_centroids = gdf_beach_th_proj.set_geometry('centroid').to_crs(epsg=4326)\n",
        "\n",
        "# Extract lat/lon from centroids and assign back to original GeoDataFrame\n",
        "gdf_beach_th[\"lat\"] = gdf_beach_th_centroids.geometry.y\n",
        "gdf_beach_th[\"lon\"] = gdf_beach_th_centroids.geometry.x\n",
        "\n",
        "# Add scene type and country\n",
        "gdf_beach_th[\"scene_type\"] = \"beach\"\n",
        "gdf_beach_th[\"country\"] = \"Thailand\"\n",
        "\n",
        "# Select relevant columns\n",
        "df_beach_th = gdf_beach_th[[\"country\", \"scene_type\", \"lat\", \"lon\"]]\n",
        "\n",
        "# Save full CSV\n",
        "df_beach_th.to_csv(\"beach_th_full.csv\", index=False)\n",
        "print(f\"Saved full coordinate list: {len(df_beach_th)} rows\")"
      ],
      "metadata": {
        "colab": {
          "base_uri": "https://localhost:8080/"
        },
        "id": "1gdTFfOGs1xT",
        "outputId": "96b77fe1-e433-4750-9a0a-ebee8627b940"
      },
      "execution_count": null,
      "outputs": [
        {
          "output_type": "stream",
          "name": "stdout",
          "text": [
            "Saved full coordinate list: 1245 rows\n"
          ]
        }
      ]
    },
    {
      "cell_type": "code",
      "source": [
        "filtered_rows = []\n",
        "print(\"Checking for Street View imagery...\")\n",
        "\n",
        "for idx, row in df_beach_th.iterrows():\n",
        "    lat, lon = row[\"lat\"], row[\"lon\"]\n",
        "    if has_street_view(lat, lon, API_KEY):\n",
        "        filtered_rows.append(row)\n",
        "        if len(filtered_rows) >= 150:\n",
        "            print(\"Reached 150 available samples, stopping early.\")\n",
        "            break\n",
        "    time.sleep(0.1)  # Respect API rate limits\n",
        "\n",
        "# Save filtered and final sampled CSVs\n",
        "df_beach_th_available = pd.DataFrame(filtered_rows)\n",
        "df_beach_th_available.to_csv(\"beach_th_with_streetview.csv\", index=False)\n",
        "print(f\"Filtered: {len(df_beach_th_available)} coordinates with Street View\")\n",
        "\n",
        "df_beach_th_sampled = df_beach_th_available.copy()\n",
        "df_beach_th_sampled.to_csv(\"beach_th_final_sample.csv\", index=False)\n",
        "print(f\"Final sample saved: {len(df_beach_th_sampled)} rows to beach_th_final_sample.csv\")"
      ],
      "metadata": {
        "colab": {
          "base_uri": "https://localhost:8080/"
        },
        "id": "8ntrNLtWs522",
        "outputId": "7215a097-c74f-4bef-878d-86585075d056"
      },
      "execution_count": null,
      "outputs": [
        {
          "output_type": "stream",
          "name": "stdout",
          "text": [
            "Checking for Street View imagery...\n",
            "Reached 150 available samples, stopping early.\n",
            "Filtered: 150 coordinates with Street View\n",
            "Final sample saved: 150 rows to beach_th_final_sample.csv\n"
          ]
        }
      ]
    },
    {
      "cell_type": "markdown",
      "source": [
        "**Temples**"
      ],
      "metadata": {
        "id": "Xa2ZrOaWn8AL"
      }
    },
    {
      "cell_type": "code",
      "source": [
        "# Query code to find temples in Thailand - copy and paste this into Overpass Turbo to generate .geojson file\n",
        "\n",
        "[out:json][timeout:25];\n",
        "{{geocodeArea:Thailand}}->.searchArea;\n",
        "(\n",
        "  node[\"amenity\"=\"place_of_worship\"][\"religion\"=\"buddhist\"](area.searchArea);\n",
        "  way[\"amenity\"=\"place_of_worship\"][\"religion\"=\"buddhist\"](area.searchArea);\n",
        "  relation[\"amenity\"=\"place_of_worship\"][\"religion\"=\"buddhist\"](area.searchArea);\n",
        ");\n",
        "out center;"
      ],
      "metadata": {
        "id": "eC5ZHF3Jn9yy"
      },
      "execution_count": null,
      "outputs": []
    },
    {
      "cell_type": "code",
      "source": [
        "gdf_temple_th = gpd.read_file(\"temple_th.geojson\")\n",
        "\n",
        "# Reproject to projected CRS for accurate centroid calculation\n",
        "gdf_temple_th_proj = gdf_temple_th.to_crs(epsg=32647)  # UTM zone for Thailand\n",
        "\n",
        "# Calculate centroids in projected CRS\n",
        "gdf_temple_th_proj['centroid'] = gdf_temple_th_proj.geometry.centroid\n",
        "\n",
        "# Convert centroids back to WGS84 (lat/lon)\n",
        "gdf_temple_th_centroids = gdf_temple_th_proj.set_geometry('centroid').to_crs(epsg=4326)\n",
        "\n",
        "# Extract lat/lon from centroids and assign back to original GeoDataFrame\n",
        "gdf_temple_th[\"lat\"] = gdf_temple_th_centroids.geometry.y\n",
        "gdf_temple_th[\"lon\"] = gdf_temple_th_centroids.geometry.x\n",
        "\n",
        "# Add scene type and country\n",
        "gdf_temple_th[\"scene_type\"] = \"temple\"\n",
        "gdf_temple_th[\"country\"] = \"Thailand\"\n",
        "\n",
        "# Select relevant columns\n",
        "df_temple_th = gdf_temple_th[[\"country\", \"scene_type\", \"lat\", \"lon\"]]\n",
        "\n",
        "# Save full CSV\n",
        "df_temple_th.to_csv(\"temple_th_full.csv\", index=False)\n",
        "print(f\"Saved full coordinate list: {len(df_temple_th)} rows\")"
      ],
      "metadata": {
        "colab": {
          "base_uri": "https://localhost:8080/"
        },
        "id": "-J9Egg8ntmw-",
        "outputId": "a88ba2b7-eacf-4300-dafd-74c33097825b"
      },
      "execution_count": null,
      "outputs": [
        {
          "output_type": "stream",
          "name": "stdout",
          "text": [
            "Saved full coordinate list: 17778 rows\n"
          ]
        }
      ]
    },
    {
      "cell_type": "code",
      "source": [
        "filtered_rows = []\n",
        "print(\"Checking for Street View imagery...\")\n",
        "\n",
        "for idx, row in df_temple_th.iterrows():\n",
        "    lat, lon = row[\"lat\"], row[\"lon\"]\n",
        "    if has_street_view(lat, lon, API_KEY):\n",
        "        filtered_rows.append(row)\n",
        "        if len(filtered_rows) >= 150:\n",
        "            print(\"Reached 150 available samples, stopping early.\")\n",
        "            break\n",
        "    time.sleep(0.1)  # Respect API rate limits\n",
        "\n",
        "# Save filtered and final sampled CSVs\n",
        "df_temple_th_available = pd.DataFrame(filtered_rows)\n",
        "df_temple_th_available.to_csv(\"temple_th_with_streetview.csv\", index=False)\n",
        "print(f\"Filtered: {len(df_temple_th_available)} coordinates with Street View\")\n",
        "\n",
        "df_temple_th_sampled = df_temple_th_available.copy()\n",
        "df_temple_th_sampled.to_csv(\"temple_th_final_sample.csv\", index=False)\n",
        "print(f\"Final sample saved: {len(df_temple_th_sampled)} rows to temple_th_final_sample.csv\")"
      ],
      "metadata": {
        "colab": {
          "base_uri": "https://localhost:8080/"
        },
        "id": "ymX5-QfWtqKA",
        "outputId": "a31354fd-a874-45cd-b902-894ddc22403a"
      },
      "execution_count": null,
      "outputs": [
        {
          "output_type": "stream",
          "name": "stdout",
          "text": [
            "Checking for Street View imagery...\n",
            "Reached 150 available samples, stopping early.\n",
            "Filtered: 150 coordinates with Street View\n",
            "Final sample saved: 150 rows to temple_th_final_sample.csv\n"
          ]
        }
      ]
    },
    {
      "cell_type": "markdown",
      "source": [
        "**Cities/Towns**"
      ],
      "metadata": {
        "id": "eb9yr8xWoA_y"
      }
    },
    {
      "cell_type": "code",
      "source": [
        "# Query code to find cities/towns in Thailand - copy and paste this into Overpass Turbo to generate .geojson file\n",
        "\n",
        "[out:json][timeout:25];\n",
        "{{geocodeArea:Thailand}}->.searchArea;\n",
        "(\n",
        "  node[\"place\"=\"city\"](area.searchArea);\n",
        "  node[\"place\"=\"town\"](area.searchArea);\n",
        ");\n",
        "out;"
      ],
      "metadata": {
        "id": "fhp6IMsqoC0Y"
      },
      "execution_count": null,
      "outputs": []
    },
    {
      "cell_type": "code",
      "source": [
        "gdf_city_th = gpd.read_file(\"city_th.geojson\")\n",
        "\n",
        "# Reproject to projected CRS for accurate centroid calculation\n",
        "gdf_city_th_proj = gdf_city_th.to_crs(epsg=32647)  # UTM zone for Thailand\n",
        "\n",
        "# Calculate centroids in projected CRS\n",
        "gdf_city_th_proj['centroid'] = gdf_city_th_proj.geometry.centroid\n",
        "\n",
        "# Convert centroids back to WGS84 (lat/lon)\n",
        "gdf_city_th_centroids = gdf_city_th_proj.set_geometry('centroid').to_crs(epsg=4326)\n",
        "\n",
        "# Extract lat/lon from centroids and assign back to original GeoDataFrame\n",
        "gdf_city_th[\"lat\"] = gdf_city_th_centroids.geometry.y\n",
        "gdf_city_th[\"lon\"] = gdf_city_th_centroids.geometry.x\n",
        "\n",
        "# Add scene type and country\n",
        "gdf_city_th[\"scene_type\"] = \"city\"\n",
        "gdf_city_th[\"country\"] = \"Thailand\"\n",
        "\n",
        "# Select relevant columns\n",
        "df_city_th = gdf_city_th[[\"country\", \"scene_type\", \"lat\", \"lon\"]]\n",
        "\n",
        "# Save full CSV\n",
        "df_city_th.to_csv(\"city_th_full.csv\", index=False)\n",
        "print(f\"Saved full coordinate list: {len(df_city_th)} rows\")"
      ],
      "metadata": {
        "colab": {
          "base_uri": "https://localhost:8080/"
        },
        "id": "i9KW4PsPtx6B",
        "outputId": "61f6d18e-80b8-4322-c67a-c8189e39f0d8"
      },
      "execution_count": null,
      "outputs": [
        {
          "output_type": "stream",
          "name": "stdout",
          "text": [
            "Saved full coordinate list: 1054 rows\n"
          ]
        }
      ]
    },
    {
      "cell_type": "code",
      "source": [
        "filtered_rows = []\n",
        "print(\"Checking for Street View imagery...\")\n",
        "\n",
        "for idx, row in df_city_th.iterrows():\n",
        "    lat, lon = row[\"lat\"], row[\"lon\"]\n",
        "    if has_street_view(lat, lon, API_KEY):\n",
        "        filtered_rows.append(row)\n",
        "        if len(filtered_rows) >= 150:\n",
        "            print(\"Reached 150 available samples, stopping early.\")\n",
        "            break\n",
        "    time.sleep(0.1)  # Respect API rate limits\n",
        "\n",
        "# Save filtered and final sampled CSVs\n",
        "df_city_th_available = pd.DataFrame(filtered_rows)\n",
        "df_city_th_available.to_csv(\"city_th_with_streetview.csv\", index=False)\n",
        "print(f\"Filtered: {len(df_city_th_available)} coordinates with Street View\")\n",
        "\n",
        "df_city_th_sampled = df_city_th_available.copy()\n",
        "df_city_th_sampled.to_csv(\"city_th_final_sample.csv\", index=False)\n",
        "print(f\"Final sample saved: {len(df_city_th_sampled)} rows to city_th_final_sample.csv\")"
      ],
      "metadata": {
        "colab": {
          "base_uri": "https://localhost:8080/"
        },
        "id": "j_LJrbDNtyQp",
        "outputId": "8b110e9d-ac15-4f68-cfdd-06e4a4e3acf9"
      },
      "execution_count": null,
      "outputs": [
        {
          "output_type": "stream",
          "name": "stdout",
          "text": [
            "Checking for Street View imagery...\n",
            "Reached 150 available samples, stopping early.\n",
            "Filtered: 150 coordinates with Street View\n",
            "Final sample saved: 150 rows to city_th_final_sample.csv\n"
          ]
        }
      ]
    },
    {
      "cell_type": "markdown",
      "source": [
        "**Mountains**"
      ],
      "metadata": {
        "id": "kVYyoRRSoHAj"
      }
    },
    {
      "cell_type": "code",
      "source": [
        "# Query code to find mountains in Thailand - copy and paste this into Overpass Turbo to generate .geojson file\n",
        "\n",
        "[out:json][timeout:25];\n",
        "{{geocodeArea:Thailand}}->.searchArea;\n",
        "(\n",
        "  node[\"natural\"=\"peak\"](area.searchArea);\n",
        "  way[\"natural\"=\"peak\"](area.searchArea);\n",
        "  relation[\"natural\"=\"peak\"](area.searchArea);\n",
        ");\n",
        "out center;"
      ],
      "metadata": {
        "colab": {
          "base_uri": "https://localhost:8080/",
          "height": 110
        },
        "id": "1sX9C9oXoIf8",
        "outputId": "be29469f-5dbd-4576-d581-3147ca609744"
      },
      "execution_count": null,
      "outputs": [
        {
          "output_type": "error",
          "ename": "SyntaxError",
          "evalue": "invalid syntax (ipython-input-11-1760585589.py, line 3)",
          "traceback": [
            "\u001b[0;36m  File \u001b[0;32m\"/tmp/ipython-input-11-1760585589.py\"\u001b[0;36m, line \u001b[0;32m3\u001b[0m\n\u001b[0;31m    [out:json][timeout:25];\u001b[0m\n\u001b[0m        ^\u001b[0m\n\u001b[0;31mSyntaxError\u001b[0m\u001b[0;31m:\u001b[0m invalid syntax\n"
          ]
        }
      ]
    },
    {
      "cell_type": "code",
      "source": [
        "gdf_mountain_th = gpd.read_file(\"mountain_th.geojson\")\n",
        "\n",
        "# Reproject to projected CRS for accurate centroid calculation\n",
        "gdf_mountain_th_proj = gdf_mountain_th.to_crs(epsg=32647)  # UTM zone for Thailand\n",
        "\n",
        "# Calculate centroids in projected CRS\n",
        "gdf_mountain_th_proj['centroid'] = gdf_mountain_th_proj.geometry.centroid\n",
        "\n",
        "# Convert centroids back to WGS84 (lat/lon)\n",
        "gdf_mountain_th_centroids = gdf_mountain_th_proj.set_geometry('centroid').to_crs(epsg=4326)\n",
        "\n",
        "# Extract lat/lon from centroids and assign back to original GeoDataFrame\n",
        "gdf_mountain_th[\"lat\"] = gdf_mountain_th_centroids.geometry.y\n",
        "gdf_mountain_th[\"lon\"] = gdf_mountain_th_centroids.geometry.x\n",
        "\n",
        "# Add scene type and country\n",
        "gdf_mountain_th[\"scene_type\"] = \"mountain\"\n",
        "gdf_mountain_th[\"country\"] = \"Thailand\"\n",
        "\n",
        "# Select relevant columns\n",
        "df_mountain_th = gdf_mountain_th[[\"country\", \"scene_type\", \"lat\", \"lon\"]]\n",
        "\n",
        "# Save full CSV\n",
        "df_mountain_th.to_csv(\"mountain_th_full.csv\", index=False)\n",
        "print(f\"Saved full coordinate list: {len(df_mountain_th)} rows\")"
      ],
      "metadata": {
        "colab": {
          "base_uri": "https://localhost:8080/"
        },
        "id": "LqZYUIhzuSJj",
        "outputId": "d26f18e9-ab63-4c4a-96d6-fd7005a4236a"
      },
      "execution_count": null,
      "outputs": [
        {
          "output_type": "stream",
          "name": "stdout",
          "text": [
            "Saved full coordinate list: 2122 rows\n"
          ]
        }
      ]
    },
    {
      "cell_type": "code",
      "source": [
        "filtered_rows = []\n",
        "print(\"Checking for Street View imagery...\")\n",
        "\n",
        "for idx, row in df_mountain_th.iterrows():\n",
        "    lat, lon = row[\"lat\"], row[\"lon\"]\n",
        "    if has_street_view(lat, lon, API_KEY):\n",
        "        filtered_rows.append(row)\n",
        "        if len(filtered_rows) >= 150:\n",
        "            print(\"Reached 150 available samples, stopping early.\")\n",
        "            break\n",
        "    time.sleep(0.1)  # Respect API rate limits\n",
        "\n",
        "# Save filtered and final sampled CSVs\n",
        "df_mountain_th_available = pd.DataFrame(filtered_rows)\n",
        "df_mountain_th_available.to_csv(\"mountain_th_with_streetview.csv\", index=False)\n",
        "print(f\"Filtered: {len(df_mountain_th_available)} coordinates with Street View\")\n",
        "\n",
        "df_mountain_th_sampled = df_mountain_th_available.copy()\n",
        "df_mountain_th_sampled.to_csv(\"mountain_th_final_sample.csv\", index=False)\n",
        "print(f\"Final sample saved: {len(df_mountain_th_sampled)} rows to mountain_th_final_sample.csv\")"
      ],
      "metadata": {
        "colab": {
          "base_uri": "https://localhost:8080/"
        },
        "id": "BDzxgeOcuStN",
        "outputId": "b7bb6177-7d57-46db-8f79-b7cc57737422"
      },
      "execution_count": null,
      "outputs": [
        {
          "output_type": "stream",
          "name": "stdout",
          "text": [
            "Checking for Street View imagery...\n",
            "Filtered: 111 coordinates with Street View\n",
            "Final sample saved: 111 rows to mountain_th_final_sample.csv\n"
          ]
        }
      ]
    },
    {
      "cell_type": "markdown",
      "source": [
        "**Jungle/forest**"
      ],
      "metadata": {
        "id": "gBDXknSqoLzX"
      }
    },
    {
      "cell_type": "code",
      "source": [
        "# Query code to find jungles/forests in Thailand - copy and paste this into Overpass Turbo to generate .geojson file\n",
        "\n",
        "[out:json][timeout:25];\n",
        "{{geocodeArea:Thailand}}->.searchArea;\n",
        "(\n",
        "  node[\"landuse\"=\"forest\"](area.searchArea);\n",
        "  way[\"landuse\"=\"forest\"](area.searchArea);\n",
        "  relation[\"landuse\"=\"forest\"](area.searchArea);\n",
        ");\n",
        "out center;"
      ],
      "metadata": {
        "id": "N23uSStqoNvH"
      },
      "execution_count": null,
      "outputs": []
    },
    {
      "cell_type": "code",
      "source": [
        "gdf_forest_th = gpd.read_file(\"forest_th.geojson\")\n",
        "\n",
        "# Reproject to projected CRS for accurate centroid calculation\n",
        "gdf_forest_th_proj = gdf_forest_th.to_crs(epsg=32647)  # UTM zone 47N for Thailand\n",
        "\n",
        "# Calculate centroids in projected CRS\n",
        "gdf_forest_th_proj['centroid'] = gdf_forest_th_proj.geometry.centroid\n",
        "\n",
        "# Convert centroids back to WGS84 (lat/lon)\n",
        "gdf_forest_th_centroids = gdf_forest_th_proj.set_geometry('centroid').to_crs(epsg=4326)\n",
        "\n",
        "# Extract lat/lon from centroids and assign back to original GeoDataFrame\n",
        "gdf_forest_th[\"lat\"] = gdf_forest_th_centroids.geometry.y\n",
        "gdf_forest_th[\"lon\"] = gdf_forest_th_centroids.geometry.x\n",
        "\n",
        "# Add scene type and country\n",
        "gdf_forest_th[\"scene_type\"] = \"forest\"\n",
        "gdf_forest_th[\"country\"] = \"Thailand\"\n",
        "\n",
        "# Select relevant columns\n",
        "df_forest_th = gdf_forest_th[[\"country\", \"scene_type\", \"lat\", \"lon\"]]\n",
        "\n",
        "# Save full CSV\n",
        "df_forest_th.to_csv(\"forest_th_full.csv\", index=False)\n",
        "print(f\"Saved full coordinate list: {len(df_forest_th)} rows\")"
      ],
      "metadata": {
        "colab": {
          "base_uri": "https://localhost:8080/"
        },
        "id": "PUwetyZzwQ_H",
        "outputId": "65cece80-c797-4cf3-9225-837d59e478e2"
      },
      "execution_count": null,
      "outputs": [
        {
          "output_type": "stream",
          "name": "stdout",
          "text": [
            "Saved full coordinate list: 7337 rows\n"
          ]
        }
      ]
    },
    {
      "cell_type": "code",
      "source": [
        "filtered_rows = []\n",
        "print(\"Checking for Street View imagery...\")\n",
        "\n",
        "for idx, row in df_forest_th.iterrows():\n",
        "    lat, lon = row[\"lat\"], row[\"lon\"]\n",
        "    if has_street_view(lat, lon, API_KEY):  # Assuming has_street_view is defined elsewhere\n",
        "        filtered_rows.append(row)\n",
        "        if len(filtered_rows) >= 150:\n",
        "            print(\"Reached 150 available samples, stopping early.\")\n",
        "            break\n",
        "    time.sleep(0.1)  # Respect API rate limits\n",
        "\n",
        "# Save filtered and final sampled CSVs\n",
        "df_forest_th_available = pd.DataFrame(filtered_rows)\n",
        "df_forest_th_available.to_csv(\"forest_th_with_streetview.csv\", index=False)\n",
        "print(f\"Filtered: {len(df_forest_th_available)} coordinates with Street View\")\n",
        "\n",
        "df_forest_th_sampled = df_forest_th_available.copy()\n",
        "df_forest_th_sampled.to_csv(\"forest_th_final_sample.csv\", index=False)\n",
        "print(f\"Final sample saved: {len(df_forest_th_sampled)} rows to forest_th_final_sample.csv\")"
      ],
      "metadata": {
        "colab": {
          "base_uri": "https://localhost:8080/"
        },
        "id": "dCSztrMnwTcG",
        "outputId": "acc1790d-555d-4c4f-e6c1-4c3a42fdd9ca"
      },
      "execution_count": null,
      "outputs": [
        {
          "output_type": "stream",
          "name": "stdout",
          "text": [
            "Checking for Street View imagery...\n",
            "Reached 150 available samples, stopping early.\n",
            "Filtered: 150 coordinates with Street View\n",
            "Final sample saved: 150 rows to forest_th_final_sample.csv\n"
          ]
        }
      ]
    },
    {
      "cell_type": "markdown",
      "source": [
        "**Farmlands (Countryside)**"
      ],
      "metadata": {
        "id": "bG1ZlmP8oRWa"
      }
    },
    {
      "cell_type": "code",
      "source": [
        "# Query code to find farmlands (countryside) in Thailand - copy and paste this into Overpass Turbo to generate .geojson file\n",
        "\n",
        "[out:json][timeout:25];\n",
        "{{geocodeArea:Thailand}}->.searchArea;\n",
        "(\n",
        "  node[\"landuse\"=\"farmland\"](area.searchArea);\n",
        "  way[\"landuse\"=\"farmland\"](area.searchArea);\n",
        "  relation[\"landuse\"=\"farmland\"](area.searchArea);\n",
        ");\n",
        "out center;\n",
        "\n"
      ],
      "metadata": {
        "id": "6wx7TNwqoUCb"
      },
      "execution_count": null,
      "outputs": []
    },
    {
      "cell_type": "code",
      "source": [
        "gdf_countryside_th = gpd.read_file(\"countryside_th.geojson\")\n",
        "\n",
        "# Reproject to projected CRS for accurate centroid calculation\n",
        "gdf_countryside_th_proj = gdf_countryside_th.to_crs(epsg=32647)  # UTM zone 47N for Thailand\n",
        "\n",
        "# Calculate centroids in projected CRS\n",
        "gdf_countryside_th_proj['centroid'] = gdf_countryside_th_proj.geometry.centroid\n",
        "\n",
        "# Convert centroids back to WGS84 (lat/lon)\n",
        "gdf_countryside_th_centroids = gdf_countryside_th_proj.set_geometry('centroid').to_crs(epsg=4326)\n",
        "\n",
        "# Extract lat/lon from centroids and assign back to original GeoDataFrame\n",
        "gdf_countryside_th[\"lat\"] = gdf_countryside_th_centroids.geometry.y\n",
        "gdf_countryside_th[\"lon\"] = gdf_countryside_th_centroids.geometry.x\n",
        "\n",
        "# Add scene type and country\n",
        "gdf_countryside_th[\"scene_type\"] = \"countryside\"\n",
        "gdf_countryside_th[\"country\"] = \"Thailand\"\n",
        "\n",
        "# Select relevant columns\n",
        "df_countryside_th = gdf_countryside_th[[\"country\", \"scene_type\", \"lat\", \"lon\"]]\n",
        "\n",
        "# Save full CSV\n",
        "df_countryside_th.to_csv(\"countryside_th_full.csv\", index=False)\n",
        "print(f\"Saved full coordinate list: {len(df_countryside_th)} rows\")"
      ],
      "metadata": {
        "colab": {
          "base_uri": "https://localhost:8080/"
        },
        "id": "tZfPg6pOwazE",
        "outputId": "bfd44cfb-6330-487a-8c30-ed10f71c10f0"
      },
      "execution_count": null,
      "outputs": [
        {
          "output_type": "stream",
          "name": "stdout",
          "text": [
            "Saved full coordinate list: 21601 rows\n"
          ]
        }
      ]
    },
    {
      "cell_type": "code",
      "source": [
        "filtered_rows = []\n",
        "print(\"Checking for Street View imagery...\")\n",
        "\n",
        "for idx, row in df_countryside_th.iterrows():\n",
        "    lat, lon = row[\"lat\"], row[\"lon\"]\n",
        "    if has_street_view(lat, lon, API_KEY):  # has_street_view assumed defined\n",
        "        filtered_rows.append(row)\n",
        "        if len(filtered_rows) >= 150:\n",
        "            print(\"Reached 150 available samples, stopping early.\")\n",
        "            break\n",
        "    time.sleep(0.1)  # Respect API rate limits\n",
        "\n",
        "# Save filtered and final sampled CSVs\n",
        "df_countryside_th_available = pd.DataFrame(filtered_rows)\n",
        "df_countryside_th_available.to_csv(\"countryside_th_with_streetview.csv\", index=False)\n",
        "print(f\"Filtered: {len(df_countryside_th_available)} coordinates with Street View\")\n",
        "\n",
        "df_countryside_th_sampled = df_countryside_th_available.copy()\n",
        "df_countryside_th_sampled.to_csv(\"countryside_th_final_sample.csv\", index=False)\n",
        "print(f\"Final sample saved: {len(df_countryside_th_sampled)} rows to countryside_th_final_sample.csv\")"
      ],
      "metadata": {
        "colab": {
          "base_uri": "https://localhost:8080/"
        },
        "id": "E13Q3f6YwcyE",
        "outputId": "e587fe3b-8525-4682-e1f5-4cd20f409744"
      },
      "execution_count": null,
      "outputs": [
        {
          "output_type": "stream",
          "name": "stdout",
          "text": [
            "Checking for Street View imagery...\n",
            "Reached 150 available samples, stopping early.\n",
            "Filtered: 150 coordinates with Street View\n",
            "Final sample saved: 150 rows to countryside_th_final_sample.csv\n"
          ]
        }
      ]
    },
    {
      "cell_type": "markdown",
      "source": [
        "**Markets**"
      ],
      "metadata": {
        "id": "Mtwc1NHrulvn"
      }
    },
    {
      "cell_type": "code",
      "source": [
        "# Query code to find marketplaces in Thailand - copy and paste this into Overpass Turbo to generate .geojson file\n",
        "\n",
        "[out:json][timeout:25];\n",
        "{{geocodeArea:Thailand}}->.searchArea;\n",
        "(\n",
        "  node[\"amenity\"=\"marketplace\"](area.searchArea);\n",
        "  way[\"amenity\"=\"marketplace\"](area.searchArea);\n",
        "  relation[\"amenity\"=\"marketplace\"](area.searchArea);\n",
        ");\n",
        "out center;"
      ],
      "metadata": {
        "id": "Ik4pflzaum-x"
      },
      "execution_count": null,
      "outputs": []
    },
    {
      "cell_type": "code",
      "source": [
        "# Load marketplace geojson\n",
        "gdf_marketplace_th = gpd.read_file(\"marketplace_th.geojson\")\n",
        "\n",
        "# Reproject for centroid calculation (use appropriate EPSG for Thailand)\n",
        "gdf_marketplace_th_proj = gdf_marketplace_th.to_crs(epsg=32647)\n",
        "gdf_marketplace_th_proj['centroid'] = gdf_marketplace_th_proj.geometry.centroid\n",
        "gdf_marketplace_th_centroids = gdf_marketplace_th_proj.set_geometry('centroid').to_crs(epsg=4326)\n",
        "gdf_marketplace_th[\"lat\"] = gdf_marketplace_th_centroids.geometry.y\n",
        "gdf_marketplace_th[\"lon\"] = gdf_marketplace_th_centroids.geometry.x\n",
        "\n",
        "# Add scene type and country columns\n",
        "gdf_marketplace_th[\"scene_type\"] = \"marketplace\"\n",
        "gdf_marketplace_th[\"country\"] = \"Thailand\"\n",
        "\n",
        "# Select relevant columns\n",
        "df_marketplace_th = gdf_marketplace_th[[\"country\", \"scene_type\", \"lat\", \"lon\"]]"
      ],
      "metadata": {
        "id": "wcnQ2MPex-II"
      },
      "execution_count": null,
      "outputs": []
    },
    {
      "cell_type": "code",
      "source": [
        "already_have = 861  # You have 861 images, so you only need 39 more\n",
        "needed = 900 - already_have  # = 39\n",
        "\n",
        "filtered_rows = []\n",
        "print(\"Checking for Street View imagery...\")\n",
        "\n",
        "for idx, row in df_marketplace_th.iterrows():\n",
        "    if len(filtered_rows) >= needed:\n",
        "        print(f\"Reached target of {needed} images, stopping.\")\n",
        "        break\n",
        "    lat, lon = row[\"lat\"], row[\"lon\"]\n",
        "    if has_street_view(lat, lon, API_KEY):\n",
        "        filtered_rows.append(row)\n",
        "    time.sleep(0.1)  # Rate limit\n",
        "\n",
        "df_marketplace_th_available = pd.DataFrame(filtered_rows)\n",
        "df_marketplace_th_available.to_csv(\"marketplace_th_with_streetview.csv\", index=False)\n",
        "print(f\"Filtered: {len(df_marketplace_th_available)} coordinates with Street View\")\n",
        "\n",
        "df_marketplace_th_sampled = df_marketplace_th_available.copy()\n",
        "df_marketplace_th_sampled.to_csv(\"marketplace_th_final_sample.csv\", index=False)\n",
        "print(f\"Final sample saved: {len(df_marketplace_th_sampled)} rows to marketplace_th_final_sample.csv\")"
      ],
      "metadata": {
        "colab": {
          "base_uri": "https://localhost:8080/"
        },
        "id": "ynaEyWaFx-wo",
        "outputId": "62efb960-ea58-4dca-baac-66d41eaac8e5"
      },
      "execution_count": null,
      "outputs": [
        {
          "output_type": "stream",
          "name": "stdout",
          "text": [
            "Checking for Street View imagery...\n",
            "Reached target of 39 images, stopping.\n",
            "Filtered: 39 coordinates with Street View\n",
            "Final sample saved: 39 rows to marketplace_th_final_sample.csv\n"
          ]
        }
      ]
    },
    {
      "cell_type": "markdown",
      "source": [
        "##**Malaysia**"
      ],
      "metadata": {
        "id": "Qvi8SHauy5zg"
      }
    },
    {
      "cell_type": "markdown",
      "source": [
        "**Note:** Malaysia has different ESPG's one for mainland and the peninsulas. We will use ESP:3857 which encompasses the whole country. The caviat is that it is off by just a few meters, which is fine."
      ],
      "metadata": {
        "id": "H3MIb8vK4AAo"
      }
    },
    {
      "cell_type": "markdown",
      "source": [
        "**Beaches**"
      ],
      "metadata": {
        "id": "IK9JwZcBy7qo"
      }
    },
    {
      "cell_type": "code",
      "source": [
        "# Query code to find beaches in Malaysia - copy and paste this into Overpass Turbo to generate .geojson file\n",
        "\n",
        "[out:json][timeout:25];\n",
        "{{geocodeArea:Malaysia}}->.searchArea;\n",
        "(\n",
        "  node[\"natural\"=\"beach\"](area.searchArea);\n",
        "  way[\"natural\"=\"beach\"](area.searchArea);\n",
        "  relation[\"natural\"=\"beach\"](area.searchArea);\n",
        ");\n",
        "out center;"
      ],
      "metadata": {
        "id": "SQrlbw3ty7PG"
      },
      "execution_count": null,
      "outputs": []
    },
    {
      "cell_type": "code",
      "source": [
        "gdf_beach_my = gpd.read_file(\"beach_my.geojson\")\n",
        "\n",
        "# Reproject to EPSG:3857 for centroid calculation\n",
        "gdf_beach_my_proj = gdf_beach_my.to_crs(epsg=3857)\n",
        "\n",
        "# Calculate centroids in projected CRS\n",
        "gdf_beach_my_proj['centroid'] = gdf_beach_my_proj.geometry.centroid\n",
        "\n",
        "# Convert centroids back to WGS84 (lat/lon)\n",
        "gdf_beach_my_centroids = gdf_beach_my_proj.set_geometry('centroid').to_crs(epsg=4326)\n",
        "\n",
        "# Extract lat/lon from centroids and assign back to original GeoDataFrame\n",
        "gdf_beach_my[\"lat\"] = gdf_beach_my_centroids.geometry.y\n",
        "gdf_beach_my[\"lon\"] = gdf_beach_my_centroids.geometry.x\n",
        "\n",
        "# Add scene type and country\n",
        "gdf_beach_my[\"scene_type\"] = \"beach\"\n",
        "gdf_beach_my[\"country\"] = \"Malaysia\"\n",
        "\n",
        "df_beach_my = gdf_beach_my[[\"country\", \"scene_type\", \"lat\", \"lon\"]]\n",
        "\n",
        "df_beach_my.to_csv(\"beach_my_full.csv\", index=False)\n",
        "print(f\"Saved full coordinate list: {len(df_beach_my)} rows\")"
      ],
      "metadata": {
        "colab": {
          "base_uri": "https://localhost:8080/"
        },
        "id": "lmJuEhkC2Rgz",
        "outputId": "4e1a5f99-2c94-4092-a681-17b39a753c7f"
      },
      "execution_count": null,
      "outputs": [
        {
          "output_type": "stream",
          "name": "stdout",
          "text": [
            "Saved full coordinate list: 620 rows\n"
          ]
        }
      ]
    },
    {
      "cell_type": "code",
      "source": [
        "filtered_rows = []\n",
        "print(\"Checking for Street View imagery...\")\n",
        "\n",
        "for idx, row in df_beach_my.iterrows():\n",
        "    lat, lon = row[\"lat\"], row[\"lon\"]\n",
        "    if has_street_view(lat, lon, API_KEY):\n",
        "        filtered_rows.append(row)\n",
        "        if len(filtered_rows) >= 150:\n",
        "            print(\"Reached 150 available samples, stopping early.\")\n",
        "            break\n",
        "    time.sleep(0.1)  # Respect API rate limits\n",
        "\n",
        "# Save filtered and final sampled CSVs\n",
        "df_beach_my_available = pd.DataFrame(filtered_rows)\n",
        "df_beach_my_available.to_csv(\"beach_my_with_streetview.csv\", index=False)\n",
        "print(f\"Filtered: {len(df_beach_my_available)} coordinates with Street View\")\n",
        "\n",
        "df_beach_my_sampled = df_beach_my_available.copy()\n",
        "df_beach_my_sampled.to_csv(\"beach_my_final_sample.csv\", index=False)\n",
        "print(f\"Final sample saved: {len(df_beach_my_sampled)} rows to beach_my_final_sample.csv\")"
      ],
      "metadata": {
        "colab": {
          "base_uri": "https://localhost:8080/"
        },
        "id": "gXA7t4vV2T71",
        "outputId": "614f4de2-2262-40f5-e61a-ea3d42ae4d56"
      },
      "execution_count": null,
      "outputs": [
        {
          "output_type": "stream",
          "name": "stdout",
          "text": [
            "Checking for Street View imagery...\n",
            "Reached 150 available samples, stopping early.\n",
            "Filtered: 150 coordinates with Street View\n",
            "Final sample saved: 150 rows to beach_my_final_sample.csv\n"
          ]
        }
      ]
    },
    {
      "cell_type": "markdown",
      "source": [
        "**Jungles/forests**"
      ],
      "metadata": {
        "id": "dGqVYemHzQen"
      }
    },
    {
      "cell_type": "code",
      "source": [
        "# Query code to find jungles/forests in Malaysia - copy and paste this into Overpass Turbo to generate .geojson file\n",
        "\n",
        "[out:json][timeout:60];\n",
        "{{geocodeArea:Malaysia}}->.searchArea;\n",
        "(\n",
        "  // Forest landuse\n",
        "  node[\"landuse\"=\"forest\"](area.searchArea);\n",
        "  way[\"landuse\"=\"forest\"](area.searchArea);\n",
        "  relation[\"landuse\"=\"forest\"](area.searchArea);\n",
        "\n",
        "  // Natural wooded areas\n",
        "  node[\"natural\"=\"wood\"](area.searchArea);\n",
        "  way[\"natural\"=\"wood\"](area.searchArea);\n",
        "  relation[\"natural\"=\"wood\"](area.searchArea);\n",
        "\n",
        "  // Optional: forest areas tagged as landcover\n",
        "  node[\"landcover\"=\"trees\"](area.searchArea);\n",
        "  way[\"landcover\"=\"trees\"](area.searchArea);\n",
        "  relation[\"landcover\"=\"trees\"](area.searchArea);\n",
        ");\n",
        "out center;"
      ],
      "metadata": {
        "id": "yfdILKRRzSwc"
      },
      "execution_count": null,
      "outputs": []
    },
    {
      "cell_type": "code",
      "source": [
        "gdf_forest_my = gpd.read_file(\"forest_my.geojson\")\n",
        "\n",
        "# Reproject to projected CRS for accurate centroid calculation\n",
        "# UTM zone for Malaysia is generally 47N (EPSG:32647) or 48N (EPSG:32648)\n",
        "# You might want to choose based on location; let's use 47N here\n",
        "gdf_forest_my_proj = gdf_forest_my.to_crs(epsg=32647)\n",
        "\n",
        "gdf_forest_my_proj['centroid'] = gdf_forest_my_proj.geometry.centroid\n",
        "gdf_forest_my_centroids = gdf_forest_my_proj.set_geometry('centroid').to_crs(epsg=4326)\n",
        "gdf_forest_my[\"lat\"] = gdf_forest_my_centroids.geometry.y\n",
        "gdf_forest_my[\"lon\"] = gdf_forest_my_centroids.geometry.x\n",
        "\n",
        "gdf_forest_my[\"scene_type\"] = \"forest\"\n",
        "gdf_forest_my[\"country\"] = \"Malaysia\"\n",
        "\n",
        "df_forest_my = gdf_forest_my[[\"country\", \"scene_type\", \"lat\", \"lon\"]]\n",
        "\n",
        "df_forest_my.to_csv(\"forest_my_full.csv\", index=False)\n",
        "print(f\"Saved full coordinate list: {len(df_forest_my)} rows\")"
      ],
      "metadata": {
        "colab": {
          "base_uri": "https://localhost:8080/"
        },
        "id": "mfTJAqgn4OGN",
        "outputId": "e9222725-f0d6-433a-b6cd-f9e1f9181c9d"
      },
      "execution_count": null,
      "outputs": [
        {
          "output_type": "stream",
          "name": "stdout",
          "text": [
            "Saved full coordinate list: 5988 rows\n"
          ]
        }
      ]
    },
    {
      "cell_type": "code",
      "source": [
        "filtered_rows = []\n",
        "print(\"Checking for Street View imagery...\")\n",
        "\n",
        "for idx, row in df_forest_my.iterrows():\n",
        "    lat, lon = row[\"lat\"], row[\"lon\"]\n",
        "    if has_street_view(lat, lon, API_KEY):  # Make sure you have this function defined earlier\n",
        "        filtered_rows.append(row)\n",
        "        if len(filtered_rows) >= 150:\n",
        "            print(\"Reached 150 available samples, stopping early.\")\n",
        "            break\n",
        "    time.sleep(0.1)  # Respect API rate limits\n",
        "\n",
        "df_forest_my_available = pd.DataFrame(filtered_rows)\n",
        "df_forest_my_available.to_csv(\"forest_my_with_streetview.csv\", index=False)\n",
        "print(f\"Filtered: {len(df_forest_my_available)} coordinates with Street View\")\n",
        "\n",
        "df_forest_my_sampled = df_forest_my_available.copy()\n",
        "df_forest_my_sampled.to_csv(\"forest_my_final_sample.csv\", index=False)\n",
        "print(f\"Final sample saved: {len(df_forest_my_sampled)} rows to forest_my_final_sample.csv\")"
      ],
      "metadata": {
        "colab": {
          "base_uri": "https://localhost:8080/"
        },
        "id": "vqChZVa04Rod",
        "outputId": "aecdf8db-4c23-4037-bc04-7bac0d5f0e14"
      },
      "execution_count": null,
      "outputs": [
        {
          "output_type": "stream",
          "name": "stdout",
          "text": [
            "Checking for Street View imagery...\n",
            "Reached 150 available samples, stopping early.\n",
            "Filtered: 150 coordinates with Street View\n",
            "Final sample saved: 150 rows to forest_my_final_sample.csv\n"
          ]
        }
      ]
    },
    {
      "cell_type": "markdown",
      "source": [
        "**Cities/towns**"
      ],
      "metadata": {
        "id": "_ySlkot1zZG9"
      }
    },
    {
      "cell_type": "code",
      "source": [
        "# Query code to find cities/town in Malaysia - copy and paste this into Overpass Turbo to generate .geojson file\n",
        "\n",
        "[out:json][timeout:25];\n",
        "{{geocodeArea:Malaysia}}->.searchArea;\n",
        "(\n",
        "  node[\"place\"=\"city\"](area.searchArea);\n",
        "  node[\"place\"=\"town\"](area.searchArea);\n",
        ");\n",
        "out;"
      ],
      "metadata": {
        "id": "MGr_jtwSzcF9"
      },
      "execution_count": null,
      "outputs": []
    },
    {
      "cell_type": "code",
      "source": [
        "gdf_city_my = gpd.read_file(\"city_my.geojson\")\n",
        "\n",
        "# Using UTM zone 47N for Malaysia\n",
        "gdf_city_my_proj = gdf_city_my.to_crs(epsg=32647)\n",
        "\n",
        "gdf_city_my_proj['centroid'] = gdf_city_my_proj.geometry.centroid\n",
        "\n",
        "gdf_city_my_centroids = gdf_city_my_proj.set_geometry('centroid').to_crs(epsg=4326)\n",
        "\n",
        "gdf_city_my[\"lat\"] = gdf_city_my_centroids.geometry.y\n",
        "gdf_city_my[\"lon\"] = gdf_city_my_centroids.geometry.x\n",
        "\n",
        "gdf_city_my[\"scene_type\"] = \"city\"\n",
        "gdf_city_my[\"country\"] = \"Malaysia\"\n",
        "\n",
        "df_city_my = gdf_city_my[[\"country\", \"scene_type\", \"lat\", \"lon\"]]\n",
        "\n",
        "df_city_my.to_csv(\"city_my_full.csv\", index=False)\n",
        "print(f\"Saved full coordinate list: {len(df_city_my)} rows\")"
      ],
      "metadata": {
        "colab": {
          "base_uri": "https://localhost:8080/"
        },
        "id": "N1MopU3P4yvm",
        "outputId": "b3c158a6-c388-4e37-96f1-cabc1722ad8c"
      },
      "execution_count": null,
      "outputs": [
        {
          "output_type": "stream",
          "name": "stdout",
          "text": [
            "Saved full coordinate list: 451 rows\n"
          ]
        }
      ]
    },
    {
      "cell_type": "code",
      "source": [
        "filtered_rows = []\n",
        "print(\"Checking for Street View imagery...\")\n",
        "\n",
        "for idx, row in df_city_my.iterrows():\n",
        "    lat, lon = row[\"lat\"], row[\"lon\"]\n",
        "    if has_street_view(lat, lon, API_KEY):\n",
        "        filtered_rows.append(row)\n",
        "        if len(filtered_rows) >= 150:\n",
        "            print(\"Reached 150 available samples, stopping early.\")\n",
        "            break\n",
        "    time.sleep(0.1)  # Respect API rate limits\n",
        "\n",
        "df_city_my_available = pd.DataFrame(filtered_rows)\n",
        "df_city_my_available.to_csv(\"city_my_with_streetview.csv\", index=False)\n",
        "print(f\"Filtered: {len(df_city_my_available)} coordinates with Street View\")\n",
        "\n",
        "df_city_my_sampled = df_city_my_available.copy()\n",
        "df_city_my_sampled.to_csv(\"city_my_final_sample.csv\", index=False)\n",
        "print(f\"Final sample saved: {len(df_city_my_sampled)} rows to city_my_final_sample.csv\")"
      ],
      "metadata": {
        "colab": {
          "base_uri": "https://localhost:8080/"
        },
        "id": "P_znogaM4y-R",
        "outputId": "6e5b29e7-0dab-496b-cb52-344dfb61a2f5"
      },
      "execution_count": null,
      "outputs": [
        {
          "output_type": "stream",
          "name": "stdout",
          "text": [
            "Checking for Street View imagery...\n",
            "Reached 150 available samples, stopping early.\n",
            "Filtered: 150 coordinates with Street View\n",
            "Final sample saved: 150 rows to city_my_final_sample.csv\n"
          ]
        }
      ]
    },
    {
      "cell_type": "markdown",
      "source": [
        "**Countryside/farmland**"
      ],
      "metadata": {
        "id": "Y8yS-PqQzeOT"
      }
    },
    {
      "cell_type": "code",
      "source": [
        "# Query code to find countryside/farmland in Malaysia - copy and paste this into Overpass Turbo to generate .geojson file\n",
        "[out:json][timeout:25];\n",
        "{{geocodeArea:Malaysia}}->.searchArea;\n",
        "(\n",
        "  node[\"landuse\"=\"farmland\"](area.searchArea);\n",
        "  way[\"landuse\"=\"farmland\"](area.searchArea);\n",
        "  relation[\"landuse\"=\"farmland\"](area.searchArea);\n",
        ");\n",
        "out center;"
      ],
      "metadata": {
        "id": "5Ju0FM22zgpV"
      },
      "execution_count": null,
      "outputs": []
    },
    {
      "cell_type": "code",
      "source": [
        "gdf_countryside_my = gpd.read_file(\"countryside_my.geojson\")\n",
        "\n",
        "# Using UTM zone 47N for Malaysia\n",
        "gdf_countryside_my_proj = gdf_countryside_my.to_crs(epsg=32647)\n",
        "\n",
        "gdf_countryside_my_proj['centroid'] = gdf_countryside_my_proj.geometry.centroid\n",
        "\n",
        "gdf_countryside_my_centroids = gdf_countryside_my_proj.set_geometry('centroid').to_crs(epsg=4326)\n",
        "\n",
        "gdf_countryside_my[\"lat\"] = gdf_countryside_my_centroids.geometry.y\n",
        "gdf_countryside_my[\"lon\"] = gdf_countryside_my_centroids.geometry.x\n",
        "\n",
        "gdf_countryside_my[\"scene_type\"] = \"countryside\"\n",
        "gdf_countryside_my[\"country\"] = \"Malaysia\"\n",
        "\n",
        "df_countryside_my = gdf_countryside_my[[\"country\", \"scene_type\", \"lat\", \"lon\"]]\n",
        "\n",
        "df_countryside_my.to_csv(\"countryside_my_full.csv\", index=False)\n",
        "print(f\"Saved full coordinate list: {len(df_countryside_my)} rows\")"
      ],
      "metadata": {
        "colab": {
          "base_uri": "https://localhost:8080/"
        },
        "id": "zPw1DlNf4zlN",
        "outputId": "b5eaf33a-c631-4d0b-b226-9e8a2cc0a610"
      },
      "execution_count": null,
      "outputs": [
        {
          "output_type": "stream",
          "name": "stdout",
          "text": [
            "Saved full coordinate list: 5347 rows\n"
          ]
        }
      ]
    },
    {
      "cell_type": "code",
      "source": [
        "filtered_rows = []\n",
        "print(\"Checking for Street View imagery...\")\n",
        "\n",
        "for idx, row in df_countryside_my.iterrows():\n",
        "    lat, lon = row[\"lat\"], row[\"lon\"]\n",
        "    if has_street_view(lat, lon, API_KEY):\n",
        "        filtered_rows.append(row)\n",
        "        if len(filtered_rows) >= 150:\n",
        "            print(\"Reached 150 available samples, stopping early.\")\n",
        "            break\n",
        "    time.sleep(0.1)  # Respect API rate limits\n",
        "\n",
        "df_countryside_my_available = pd.DataFrame(filtered_rows)\n",
        "df_countryside_my_available.to_csv(\"countryside_my_with_streetview.csv\", index=False)\n",
        "print(f\"Filtered: {len(df_countryside_my_available)} coordinates with Street View\")\n",
        "\n",
        "df_countryside_my_sampled = df_countryside_my_available.copy()\n",
        "df_countryside_my_sampled.to_csv(\"countryside_my_final_sample.csv\", index=False)\n",
        "print(f\"Final sample saved: {len(df_countryside_my_sampled)} rows to countryside_my_final_sample.csv\")"
      ],
      "metadata": {
        "colab": {
          "base_uri": "https://localhost:8080/"
        },
        "id": "lh4EboiF4zqz",
        "outputId": "f52baf4b-cfd8-4db5-fc2a-875f3ac9cb18"
      },
      "execution_count": null,
      "outputs": [
        {
          "output_type": "stream",
          "name": "stdout",
          "text": [
            "Checking for Street View imagery...\n",
            "Reached 150 available samples, stopping early.\n",
            "Filtered: 150 coordinates with Street View\n",
            "Final sample saved: 150 rows to countryside_my_final_sample.csv\n"
          ]
        }
      ]
    },
    {
      "cell_type": "markdown",
      "source": [
        "**Mosques**"
      ],
      "metadata": {
        "id": "HsTu2k77zl0G"
      }
    },
    {
      "cell_type": "code",
      "source": [
        "# Query code to find mosques in Malaysia - copy and paste this into Overpass Turbo to generate .geojson file\n",
        "\n",
        "[out:json][timeout:25];\n",
        "{{geocodeArea:Malaysia}}->.searchArea;\n",
        "(\n",
        "  node[\"amenity\"=\"place_of_worship\"][\"religion\"=\"muslim\"](area.searchArea);\n",
        "  way[\"amenity\"=\"place_of_worship\"][\"religion\"=\"muslim\"](area.searchArea);\n",
        "  relation[\"amenity\"=\"place_of_worship\"][\"religion\"=\"muslim\"](area.searchArea);\n",
        ");\n",
        "out center;"
      ],
      "metadata": {
        "id": "ej3PxNSpznpV"
      },
      "execution_count": null,
      "outputs": []
    },
    {
      "cell_type": "code",
      "source": [
        "gdf_mosque_my = gpd.read_file(\"mosque_my.geojson\")\n",
        "\n",
        "gdf_mosque_my[\"lat\"] = gdf_mosque_my.geometry.y\n",
        "gdf_mosque_my[\"lon\"] = gdf_mosque_my.geometry.x\n",
        "\n",
        "gdf_mosque_my[\"scene_type\"] = \"mosque\"\n",
        "gdf_mosque_my[\"country\"] = \"Malaysia\"\n",
        "\n",
        "df_mosque_my = gdf_mosque_my[[\"country\", \"scene_type\", \"lat\", \"lon\"]]\n",
        "\n",
        "df_mosque_my.to_csv(\"mosque_my_full.csv\", index=False)\n",
        "print(f\"Saved full coordinate list: {len(df_mosque_my)} rows\")"
      ],
      "metadata": {
        "colab": {
          "base_uri": "https://localhost:8080/"
        },
        "id": "Iog90nL740HE",
        "outputId": "26b290c1-a06f-4393-8257-7dc92b9f10e1"
      },
      "execution_count": null,
      "outputs": [
        {
          "output_type": "stream",
          "name": "stdout",
          "text": [
            "Saved full coordinate list: 6072 rows\n"
          ]
        }
      ]
    },
    {
      "cell_type": "code",
      "source": [
        "filtered_rows = []\n",
        "print(\"Checking for Street View imagery...\")\n",
        "\n",
        "for idx, row in df_mosque_my.iterrows():\n",
        "    lat, lon = row[\"lat\"], row[\"lon\"]\n",
        "    if has_street_view(lat, lon, API_KEY):\n",
        "        filtered_rows.append(row)\n",
        "        if len(filtered_rows) >= 150:\n",
        "            print(\"Reached 150 available samples, stopping early.\")\n",
        "            break\n",
        "    time.sleep(0.1)  # Respect API rate limits\n",
        "\n",
        "df_mosque_my_available = pd.DataFrame(filtered_rows)\n",
        "df_mosque_my_available.to_csv(\"mosque_my_with_streetview.csv\", index=False)\n",
        "print(f\"Filtered: {len(df_mosque_my_available)} coordinates with Street View\")\n",
        "\n",
        "df_mosque_my_sampled = df_mosque_my_available.copy()\n",
        "df_mosque_my_sampled.to_csv(\"mosque_my_final_sample.csv\", index=False)\n",
        "print(f\"Final sample saved: {len(df_mosque_my_sampled)} rows to mosque_my_final_sample.csv\")"
      ],
      "metadata": {
        "colab": {
          "base_uri": "https://localhost:8080/"
        },
        "id": "K5JSdTYy40JS",
        "outputId": "d4f8b5c5-5d7c-455b-8dd2-76c2c189ac50"
      },
      "execution_count": null,
      "outputs": [
        {
          "output_type": "stream",
          "name": "stdout",
          "text": [
            "Checking for Street View imagery...\n",
            "Reached 150 available samples, stopping early.\n",
            "Filtered: 150 coordinates with Street View\n",
            "Final sample saved: 150 rows to mosque_my_final_sample.csv\n"
          ]
        }
      ]
    },
    {
      "cell_type": "markdown",
      "source": [
        "**Mountains**"
      ],
      "metadata": {
        "id": "eUhYaGRbzrF8"
      }
    },
    {
      "cell_type": "code",
      "source": [
        "# Query code to find mountains in Malaysia - copy and paste this into Overpass Turbo to generate .geojson file\n",
        "[out:json][timeout:25];\n",
        "{{geocodeArea:Malaysia}}->.searchArea;\n",
        "(\n",
        "  node[\"natural\"=\"peak\"](area.searchArea);\n",
        "  way[\"natural\"=\"peak\"](area.searchArea);\n",
        "  relation[\"natural\"=\"peak\"](area.searchArea);\n",
        ");\n",
        "out center;"
      ],
      "metadata": {
        "id": "ufB_ieUGzs2P"
      },
      "execution_count": null,
      "outputs": []
    },
    {
      "cell_type": "code",
      "source": [
        "gdf_mountain_my = gpd.read_file(\"mountain_my.geojson\")\n",
        "\n",
        "# Use UTM zone 47N for Malaysia\n",
        "gdf_mountain_my_proj = gdf_mountain_my.to_crs(epsg=32647)\n",
        "\n",
        "gdf_mountain_my_proj['centroid'] = gdf_mountain_my_proj.geometry.centroid\n",
        "\n",
        "gdf_mountain_my_centroids = gdf_mountain_my_proj.set_geometry('centroid').to_crs(epsg=4326)\n",
        "\n",
        "gdf_mountain_my[\"lat\"] = gdf_mountain_my_centroids.geometry.y\n",
        "gdf_mountain_my[\"lon\"] = gdf_mountain_my_centroids.geometry.x\n",
        "\n",
        "gdf_mountain_my[\"scene_type\"] = \"mountain\"\n",
        "gdf_mountain_my[\"country\"] = \"Malaysia\"\n",
        "\n",
        "df_mountain_my = gdf_mountain_my[[\"country\", \"scene_type\", \"lat\", \"lon\"]]\n",
        "\n",
        "df_mountain_my.to_csv(\"mountain_my_full.csv\", index=False)\n",
        "print(f\"Saved full coordinate list: {len(df_mountain_my)} rows\")"
      ],
      "metadata": {
        "colab": {
          "base_uri": "https://localhost:8080/"
        },
        "id": "4z8oqP9A40r5",
        "outputId": "b4f0eeae-e542-4a79-9544-19e6d36cf748"
      },
      "execution_count": null,
      "outputs": [
        {
          "output_type": "stream",
          "name": "stdout",
          "text": [
            "Saved full coordinate list: 2853 rows\n"
          ]
        }
      ]
    },
    {
      "cell_type": "code",
      "source": [
        "filtered_rows = []\n",
        "print(\"Checking for Street View imagery...\")\n",
        "\n",
        "for idx, row in df_mountain_my.iterrows():\n",
        "    lat, lon = row[\"lat\"], row[\"lon\"]\n",
        "    if has_street_view(lat, lon, API_KEY):\n",
        "        filtered_rows.append(row)\n",
        "        if len(filtered_rows) >= 150:\n",
        "            print(\"Reached 150 available samples, stopping early.\")\n",
        "            break\n",
        "    time.sleep(0.1)  # Respect API rate limits\n",
        "\n",
        "df_mountain_my_available = pd.DataFrame(filtered_rows)\n",
        "df_mountain_my_available.to_csv(\"mountain_my_with_streetview.csv\", index=False)\n",
        "print(f\"Filtered: {len(df_mountain_my_available)} coordinates with Street View\")\n",
        "\n",
        "df_mountain_my_sampled = df_mountain_my_available.copy()\n",
        "df_mountain_my_sampled.to_csv(\"mountain_my_final_sample.csv\", index=False)\n",
        "print(f\"Final sample saved: {len(df_mountain_my_sampled)} rows to mountain_my_final_sample.csv\")"
      ],
      "metadata": {
        "colab": {
          "base_uri": "https://localhost:8080/"
        },
        "id": "QHkmOZNE40t6",
        "outputId": "5ebb021e-9063-400e-c5ca-fd154bdd029a"
      },
      "execution_count": null,
      "outputs": [
        {
          "output_type": "stream",
          "name": "stdout",
          "text": [
            "Checking for Street View imagery...\n",
            "Filtered: 146 coordinates with Street View\n",
            "Final sample saved: 146 rows to mountain_my_final_sample.csv\n"
          ]
        }
      ]
    },
    {
      "cell_type": "markdown",
      "source": [
        "## **Indonesia**"
      ],
      "metadata": {
        "id": "9Gamj5S9Jbj-"
      }
    },
    {
      "cell_type": "markdown",
      "source": [
        "**Note:** For the jungle/forest query, we had to focus on the Kalimantan Borneo jungle region. Otherwise, Indonesia is too forest-dense and the query outputs a dataset that is too large. For more information, this is how Borneo is divided:\n",
        "\n",
        "- 🇮🇩 Kalimantan — Indonesia (covers about 73% of Borneo)\n",
        "- 🇲🇾 Sabah & Sarawak — Malaysia\n",
        "- 🇧🇳 Brunei — small, independent nation on the north coast"
      ],
      "metadata": {
        "id": "XQc7-dRaMHR1"
      }
    },
    {
      "cell_type": "markdown",
      "source": [
        "**Note:** Similar to Malaysia, because Indonesia contains islands and spans multiple UTM zones, we will just stick to ESPG: 3857 for Indonesia. Since our project focuses on street-view and not spacial accuracy, we don't really need to re-project. ESPG: 3857 works for anywhere on Earth because it's a global projection used widely in web mapping."
      ],
      "metadata": {
        "id": "8BH-9wxwOqEG"
      }
    },
    {
      "cell_type": "markdown",
      "source": [
        "**Beaches**"
      ],
      "metadata": {
        "id": "Ldtbf0IsJief"
      }
    },
    {
      "cell_type": "code",
      "source": [
        "# Query code to find beaches in Indonesia - copy and paste this into Overpass Turbo to generate .geojson file\n",
        "\n",
        "[out:json][timeout:60];\n",
        "{{geocodeArea:Indonesia}}->.searchArea;\n",
        "(\n",
        "  node[\"natural\"=\"beach\"](area.searchArea);\n",
        "  way[\"natural\"=\"beach\"](area.searchArea);\n",
        "  relation[\"natural\"=\"beach\"](area.searchArea);\n",
        ");\n",
        "out center;\n"
      ],
      "metadata": {
        "id": "bIRsKYKJ6m5p"
      },
      "execution_count": null,
      "outputs": []
    },
    {
      "cell_type": "code",
      "source": [
        "gdf_beach_id = gpd.read_file(\"beach_id.geojson\")\n",
        "\n",
        "gdf_beach_id_proj = gdf_beach_id.to_crs(epsg=3857)\n",
        "\n",
        "gdf_beach_id_proj['centroid'] = gdf_beach_id_proj.geometry.centroid\n",
        "\n",
        "gdf_beach_id_centroids = gdf_beach_id_proj.set_geometry('centroid').to_crs(epsg=4326)\n",
        "\n",
        "gdf_beach_id[\"lat\"] = gdf_beach_id_centroids.geometry.y\n",
        "gdf_beach_id[\"lon\"] = gdf_beach_id_centroids.geometry.x\n",
        "\n",
        "gdf_beach_id[\"scene_type\"] = \"beach\"\n",
        "gdf_beach_id[\"country\"] = \"Indonesia\"\n",
        "\n",
        "df_beach_id = gdf_beach_id[[\"country\", \"scene_type\", \"lat\", \"lon\"]]\n",
        "\n",
        "df_beach_id.to_csv(\"beach_id_full.csv\", index=False)\n",
        "print(f\"Saved full coordinate list: {len(df_beach_id)} rows\")"
      ],
      "metadata": {
        "colab": {
          "base_uri": "https://localhost:8080/"
        },
        "id": "nS4Yln6tNrwe",
        "outputId": "2038f02b-e9d0-48da-f247-45bc54253143"
      },
      "execution_count": null,
      "outputs": [
        {
          "output_type": "stream",
          "name": "stdout",
          "text": [
            "Saved full coordinate list: 2911 rows\n"
          ]
        }
      ]
    },
    {
      "cell_type": "code",
      "source": [
        "filtered_rows = []\n",
        "print(\"Checking for Street View imagery...\")\n",
        "\n",
        "for idx, row in df_beach_id.iterrows():\n",
        "    lat, lon = row[\"lat\"], row[\"lon\"]\n",
        "    if has_street_view(lat, lon, API_KEY):\n",
        "        filtered_rows.append(row)\n",
        "        if len(filtered_rows) >= 150:\n",
        "            print(\"Reached 150 available samples, stopping early.\")\n",
        "            break\n",
        "    time.sleep(0.1)  # To avoid hitting API limits\n",
        "\n",
        "df_beach_id_available = pd.DataFrame(filtered_rows)\n",
        "df_beach_id_available.to_csv(\"beach_id_with_streetview.csv\", index=False)\n",
        "print(f\"Filtered: {len(df_beach_id_available)} coordinates with Street View\")\n",
        "\n",
        "df_beach_id_sampled = df_beach_id_available.copy()\n",
        "df_beach_id_sampled.to_csv(\"beach_id_final_sample.csv\", index=False)\n",
        "print(f\"Final sample saved: {len(df_beach_id_sampled)} rows to beach_id_final_sample.csv\")\n"
      ],
      "metadata": {
        "colab": {
          "base_uri": "https://localhost:8080/"
        },
        "id": "Gde7nZwSNr5N",
        "outputId": "2ec50c54-bf34-4bc2-caff-d7daaf1f48bb"
      },
      "execution_count": null,
      "outputs": [
        {
          "output_type": "stream",
          "name": "stdout",
          "text": [
            "Checking for Street View imagery...\n",
            "Reached 150 available samples, stopping early.\n",
            "Filtered: 150 coordinates with Street View\n",
            "Final sample saved: 150 rows to beach_id_final_sample.csv\n"
          ]
        }
      ]
    },
    {
      "cell_type": "markdown",
      "source": [
        "**Volcanoes/Mountains**"
      ],
      "metadata": {
        "id": "ebDmfeAqJpd-"
      }
    },
    {
      "cell_type": "code",
      "source": [
        "# Query code to find volcanoes/mountains in Indonesia - copy and paste this into Overpass Turbo to generate .geojson file\n",
        "\n",
        "[out:json][timeout:60];\n",
        "{{geocodeArea:Indonesia}}->.searchArea;\n",
        "(\n",
        "  node[\"natural\"=\"peak\"](area.searchArea);\n",
        "  way[\"natural\"=\"peak\"](area.searchArea);\n",
        "  relation[\"natural\"=\"peak\"](area.searchArea);\n",
        "  node[\"volcano:type\"](area.searchArea);\n",
        "  way[\"volcano:type\"](area.searchArea);\n",
        "  relation[\"volcano:type\"](area.searchArea);\n",
        ");\n",
        "out center;"
      ],
      "metadata": {
        "id": "tXoOT0pzJr6A"
      },
      "execution_count": null,
      "outputs": []
    },
    {
      "cell_type": "code",
      "source": [
        "gdf_mountain_id = gpd.read_file(\"mountain_id.geojson\")\n",
        "\n",
        "gdf_mountain_id_proj = gdf_mountain_id.to_crs(epsg=3857)\n",
        "\n",
        "gdf_mountain_id_proj['centroid'] = gdf_mountain_id_proj.geometry.centroid\n",
        "\n",
        "gdf_mountain_id_centroids = gdf_mountain_id_proj.set_geometry('centroid').to_crs(epsg=4326)\n",
        "\n",
        "gdf_mountain_id[\"lat\"] = gdf_mountain_id_centroids.geometry.y\n",
        "gdf_mountain_id[\"lon\"] = gdf_mountain_id_centroids.geometry.x\n",
        "\n",
        "gdf_mountain_id[\"scene_type\"] = \"mountain\"\n",
        "gdf_mountain_id[\"country\"] = \"Indonesia\"\n",
        "\n",
        "df_mountain_id = gdf_mountain_id[[\"country\", \"scene_type\", \"lat\", \"lon\"]]\n",
        "\n",
        "df_mountain_id.to_csv(\"mountain_id_full.csv\", index=False)\n",
        "print(f\"Saved full coordinate list: {len(df_mountain_id)} rows\")"
      ],
      "metadata": {
        "colab": {
          "base_uri": "https://localhost:8080/"
        },
        "id": "F9mNHP-lNsUC",
        "outputId": "ef3c5dae-6abf-49df-8185-c7d8c6ed7d97"
      },
      "execution_count": null,
      "outputs": [
        {
          "output_type": "stream",
          "name": "stdout",
          "text": [
            "Saved full coordinate list: 21828 rows\n"
          ]
        }
      ]
    },
    {
      "cell_type": "code",
      "source": [
        "filtered_rows = []\n",
        "print(\"Checking for Street View imagery...\")\n",
        "\n",
        "for idx, row in df_mountain_id.iterrows():\n",
        "    lat, lon = row[\"lat\"], row[\"lon\"]\n",
        "    if has_street_view(lat, lon, API_KEY):\n",
        "        filtered_rows.append(row)\n",
        "        if len(filtered_rows) >= 150:\n",
        "            print(\"Reached 150 available samples, stopping early.\")\n",
        "            break\n",
        "    time.sleep(0.1)  # Respect API rate limits\n",
        "\n",
        "df_mountain_id_available = pd.DataFrame(filtered_rows)\n",
        "df_mountain_id_available.to_csv(\"mountain_id_with_streetview.csv\", index=False)\n",
        "print(f\"Filtered: {len(df_mountain_id_available)} coordinates with Street View\")\n",
        "\n",
        "df_mountain_id_sampled = df_mountain_id_available.copy()\n",
        "df_mountain_id_sampled.to_csv(\"mountain_id_final_sample.csv\", index=False)\n",
        "print(f\"Final sample saved: {len(df_mountain_id_sampled)} rows to mountain_id_final_sample.csv\")"
      ],
      "metadata": {
        "colab": {
          "base_uri": "https://localhost:8080/"
        },
        "id": "4Zc6zjspNsWA",
        "outputId": "acbd5e62-01cd-44b3-8867-20279c327e26"
      },
      "execution_count": null,
      "outputs": [
        {
          "output_type": "stream",
          "name": "stdout",
          "text": [
            "Checking for Street View imagery...\n",
            "Reached 150 available samples, stopping early.\n",
            "Filtered: 150 coordinates with Street View\n",
            "Final sample saved: 150 rows to mountain_id_final_sample.csv\n"
          ]
        }
      ]
    },
    {
      "cell_type": "markdown",
      "source": [
        "**Cities/towns**"
      ],
      "metadata": {
        "id": "N5MF4f-lJwTa"
      }
    },
    {
      "cell_type": "code",
      "source": [
        "# Query code to find cities and towns in Indonesia - copy and paste this into Overpass Turbo to generate .geojson file\n",
        "\n",
        "[out:json][timeout:60];\n",
        "{{geocodeArea:Indonesia}}->.searchArea;\n",
        "(\n",
        "  node[\"place\"=\"city\"](area.searchArea);\n",
        "  node[\"place\"=\"town\"](area.searchArea);\n",
        ");\n",
        "out;"
      ],
      "metadata": {
        "id": "qDT_ECJvJzoO"
      },
      "execution_count": null,
      "outputs": []
    },
    {
      "cell_type": "code",
      "source": [
        "gdf_city_id = gpd.read_file(\"city_id.geojson\")\n",
        "\n",
        "gdf_city_id_proj = gdf_city_id.to_crs(epsg=3857)\n",
        "\n",
        "gdf_city_id_proj['centroid'] = gdf_city_id_proj.geometry.centroid\n",
        "\n",
        "gdf_city_id_centroids = gdf_city_id_proj.set_geometry('centroid').to_crs(epsg=4326)\n",
        "\n",
        "gdf_city_id[\"lat\"] = gdf_city_id_centroids.geometry.y\n",
        "gdf_city_id[\"lon\"] = gdf_city_id_centroids.geometry.x\n",
        "\n",
        "gdf_city_id[\"scene_type\"] = \"city\"\n",
        "gdf_city_id[\"country\"] = \"Indonesia\"\n",
        "\n",
        "df_city_id = gdf_city_id[[\"country\", \"scene_type\", \"lat\", \"lon\"]]\n",
        "\n",
        "df_city_id.to_csv(\"city_id_full.csv\", index=False)\n",
        "print(f\"Saved full coordinate list: {len(df_city_id)} rows\")"
      ],
      "metadata": {
        "colab": {
          "base_uri": "https://localhost:8080/"
        },
        "id": "WJ1ANNpXNsw1",
        "outputId": "7003b2f5-ce05-4d18-9df1-fa22fdb12700"
      },
      "execution_count": null,
      "outputs": [
        {
          "output_type": "stream",
          "name": "stdout",
          "text": [
            "Saved full coordinate list: 2012 rows\n"
          ]
        }
      ]
    },
    {
      "cell_type": "code",
      "source": [
        "filtered_rows = []\n",
        "print(\"Checking for Street View imagery...\")\n",
        "\n",
        "for idx, row in df_city_id.iterrows():\n",
        "    lat, lon = row[\"lat\"], row[\"lon\"]\n",
        "    if has_street_view(lat, lon, API_KEY):\n",
        "        filtered_rows.append(row)\n",
        "        if len(filtered_rows) >= 150:\n",
        "            print(\"Reached 150 available samples, stopping early.\")\n",
        "            break\n",
        "    time.sleep(0.1)  # Respect API rate limits\n",
        "\n",
        "df_city_id_available = pd.DataFrame(filtered_rows)\n",
        "df_city_id_available.to_csv(\"city_id_with_streetview.csv\", index=False)\n",
        "print(f\"Filtered: {len(df_city_id_available)} coordinates with Street View\")\n",
        "\n",
        "df_city_id_sampled = df_city_id_available.copy()\n",
        "df_city_id_sampled.to_csv(\"city_id_final_sample.csv\", index=False)\n",
        "print(f\"Final sample saved: {len(df_city_id_sampled)} rows to city_id_final_sample.csv\")"
      ],
      "metadata": {
        "colab": {
          "base_uri": "https://localhost:8080/"
        },
        "id": "dRcgTohaNsyv",
        "outputId": "783644ac-2261-4042-d6e4-8953615cc2ac"
      },
      "execution_count": null,
      "outputs": [
        {
          "output_type": "stream",
          "name": "stdout",
          "text": [
            "Checking for Street View imagery...\n",
            "Reached 150 available samples, stopping early.\n",
            "Filtered: 150 coordinates with Street View\n",
            "Final sample saved: 150 rows to city_id_final_sample.csv\n"
          ]
        }
      ]
    },
    {
      "cell_type": "markdown",
      "source": [
        "**Jungle/forest**"
      ],
      "metadata": {
        "id": "XH_2xAzxJ5Rj"
      }
    },
    {
      "cell_type": "code",
      "source": [
        "# Query code to find jungle and forests in Indonesia - copy and paste this into Overpass Turbo to generate .geojson file\n",
        "# Note that for this query, we limit it to just the Borneo jungle region (Kalimantan) beacuse otherwise, the data would be too large - this introduces a bit of bias\n",
        "\n",
        "[out:json][timeout:60];\n",
        "{{geocodeArea:Kalimantan}}->.searchArea;\n",
        "(\n",
        "  way[\"landuse\"=\"forest\"](area.searchArea);\n",
        "  relation[\"landuse\"=\"forest\"](area.searchArea);\n",
        "  way[\"natural\"=\"wood\"](area.searchArea);\n",
        "  relation[\"natural\"=\"wood\"](area.searchArea);\n",
        ");\n",
        "out center;"
      ],
      "metadata": {
        "id": "bX9JkhKkJ7Af"
      },
      "execution_count": null,
      "outputs": []
    },
    {
      "cell_type": "code",
      "source": [
        "gdf_jungle_id = gpd.read_file(\"jungle_id.geojson\")\n",
        "\n",
        "gdf_jungle_id_proj = gdf_jungle_id.to_crs(epsg=3857)\n",
        "\n",
        "gdf_jungle_id_proj['centroid'] = gdf_jungle_id_proj.geometry.centroid\n",
        "\n",
        "gdf_jungle_id_centroids = gdf_jungle_id_proj.set_geometry('centroid').to_crs(epsg=4326)\n",
        "\n",
        "gdf_jungle_id[\"lat\"] = gdf_jungle_id_centroids.geometry.y\n",
        "gdf_jungle_id[\"lon\"] = gdf_jungle_id_centroids.geometry.x\n",
        "\n",
        "gdf_jungle_id[\"scene_type\"] = \"jungle\"\n",
        "gdf_jungle_id[\"country\"] = \"Indonesia\"\n",
        "\n",
        "df_jungle_id = gdf_jungle_id[[\"country\", \"scene_type\", \"lat\", \"lon\"]]\n",
        "\n",
        "df_jungle_id.to_csv(\"jungle_id_full.csv\", index=False)\n",
        "print(f\"Saved full coordinate list: {len(df_jungle_id)} rows\")"
      ],
      "metadata": {
        "colab": {
          "base_uri": "https://localhost:8080/"
        },
        "id": "-sqGvZwFNtLM",
        "outputId": "a9fb2d80-f31b-4bd7-97b6-9496fdeb4bb3"
      },
      "execution_count": null,
      "outputs": [
        {
          "output_type": "stream",
          "name": "stdout",
          "text": [
            "Saved full coordinate list: 3442 rows\n"
          ]
        }
      ]
    },
    {
      "cell_type": "code",
      "source": [
        "filtered_rows = []\n",
        "print(\"Checking for Street View imagery...\")\n",
        "\n",
        "for idx, row in df_jungle_id.iterrows():\n",
        "    lat, lon = row[\"lat\"], row[\"lon\"]\n",
        "    if has_street_view(lat, lon, API_KEY):\n",
        "        filtered_rows.append(row)\n",
        "        if len(filtered_rows) >= 150:\n",
        "            print(\"Reached 150 available samples, stopping early.\")\n",
        "            break\n",
        "    time.sleep(0.1)  # Respect API rate limits\n",
        "\n",
        "df_jungle_id_available = pd.DataFrame(filtered_rows)\n",
        "df_jungle_id_available.to_csv(\"jungle_id_with_streetview.csv\", index=False)\n",
        "print(f\"Filtered: {len(df_jungle_id_available)} coordinates with Street View\")\n",
        "\n",
        "df_jungle_id_sampled = df_jungle_id_available.copy()\n",
        "df_jungle_id_sampled.to_csv(\"jungle_id_final_sample.csv\", index=False)\n",
        "print(f\"Final sample saved: {len(df_jungle_id_sampled)} rows to jungle_id_final_sample.csv\")"
      ],
      "metadata": {
        "colab": {
          "base_uri": "https://localhost:8080/"
        },
        "id": "TrLx6AVsNtM5",
        "outputId": "bd6404b8-ca1e-402f-fe84-9321f727378a"
      },
      "execution_count": null,
      "outputs": [
        {
          "output_type": "stream",
          "name": "stdout",
          "text": [
            "Checking for Street View imagery...\n",
            "Reached 150 available samples, stopping early.\n",
            "Filtered: 150 coordinates with Street View\n",
            "Final sample saved: 150 rows to jungle_id_final_sample.csv\n"
          ]
        }
      ]
    },
    {
      "cell_type": "markdown",
      "source": [
        "**Countryside and rice fields**"
      ],
      "metadata": {
        "id": "umRGCzUQJ-is"
      }
    },
    {
      "cell_type": "code",
      "source": [
        "# Query code to find country side and rice fields in Indonesia - copy and paste this into Overpass Turbo to generate .geojson file\n",
        "\n",
        "[out:json][timeout:60];\n",
        "{{geocodeArea:Indonesia}}->.searchArea;\n",
        "(\n",
        "  way[\"landuse\"=\"paddy\"](area.searchArea);\n",
        "  relation[\"landuse\"=\"paddy\"](area.searchArea);\n",
        "  way[\"crop\"=\"rice\"](area.searchArea);\n",
        "  relation[\"crop\"=\"rice\"](area.searchArea);\n",
        ");\n",
        "out center;"
      ],
      "metadata": {
        "id": "XL3gTa1KKAkn"
      },
      "execution_count": null,
      "outputs": []
    },
    {
      "cell_type": "code",
      "source": [
        "gdf_countryside_id = gpd.read_file(\"countryside_id.geojson\")\n",
        "\n",
        "gdf_countryside_id_proj = gdf_countryside_id.to_crs(epsg=3857)\n",
        "\n",
        "gdf_countryside_id_proj['centroid'] = gdf_countryside_id_proj.geometry.centroid\n",
        "\n",
        "gdf_countryside_id_centroids = gdf_countryside_id_proj.set_geometry('centroid').to_crs(epsg=4326)\n",
        "\n",
        "gdf_countryside_id[\"lat\"] = gdf_countryside_id_centroids.geometry.y\n",
        "gdf_countryside_id[\"lon\"] = gdf_countryside_id_centroids.geometry.x\n",
        "\n",
        "gdf_countryside_id[\"scene_type\"] = \"countryside\"\n",
        "gdf_countryside_id[\"country\"] = \"Indonesia\"\n",
        "\n",
        "df_countryside_id = gdf_countryside_id[[\"country\", \"scene_type\", \"lat\", \"lon\"]]\n",
        "\n",
        "df_countryside_id.to_csv(\"countryside_id_full.csv\", index=False)\n",
        "print(f\"Saved full coordinate list: {len(df_countryside_id)} rows\")"
      ],
      "metadata": {
        "colab": {
          "base_uri": "https://localhost:8080/"
        },
        "id": "JHvy4H77NtmF",
        "outputId": "ddc47086-e9b2-471b-9a33-b068a94dc26f"
      },
      "execution_count": null,
      "outputs": [
        {
          "output_type": "stream",
          "name": "stdout",
          "text": [
            "Saved full coordinate list: 5635 rows\n"
          ]
        }
      ]
    },
    {
      "cell_type": "code",
      "source": [
        "filtered_rows = []\n",
        "print(\"Checking for Street View imagery...\")\n",
        "\n",
        "for idx, row in df_countryside_id.iterrows():\n",
        "    lat, lon = row[\"lat\"], row[\"lon\"]\n",
        "    if has_street_view(lat, lon, API_KEY):\n",
        "        filtered_rows.append(row)\n",
        "        if len(filtered_rows) >= 150:\n",
        "            print(\"Reached 150 available samples, stopping early.\")\n",
        "            break\n",
        "    time.sleep(0.1)  # Respect API rate limits\n",
        "\n",
        "df_countryside_id_available = pd.DataFrame(filtered_rows)\n",
        "df_countryside_id_available.to_csv(\"countryside_id_with_streetview.csv\", index=False)\n",
        "print(f\"Filtered: {len(df_countryside_id_available)} coordinates with Street View\")\n",
        "\n",
        "df_countryside_id_sampled = df_countryside_id_available.copy()\n",
        "df_countryside_id_sampled.to_csv(\"countryside_id_final_sample.csv\", index=False)\n",
        "print(f\"Final sample saved: {len(df_countryside_id_sampled)} rows to countryside_id_final_sample.csv\")"
      ],
      "metadata": {
        "colab": {
          "base_uri": "https://localhost:8080/"
        },
        "id": "LLMs18JZNtoW",
        "outputId": "564b63ec-924c-493a-9d3a-59ef73ea2cb9"
      },
      "execution_count": null,
      "outputs": [
        {
          "output_type": "stream",
          "name": "stdout",
          "text": [
            "Checking for Street View imagery...\n",
            "Reached 150 available samples, stopping early.\n",
            "Filtered: 150 coordinates with Street View\n",
            "Final sample saved: 150 rows to countryside_id_final_sample.csv\n"
          ]
        }
      ]
    },
    {
      "cell_type": "markdown",
      "source": [
        "**Temples (Buddhist and Hindu)**"
      ],
      "metadata": {
        "id": "yDCk84P_KHMX"
      }
    },
    {
      "cell_type": "code",
      "source": [
        "# Query code to find Buddhist and Hindu temples in Indonesia - copy and paste this into Overpass Turbo to generate .geojson file\n",
        "\n",
        "[out:json][timeout:60];\n",
        "{{geocodeArea:Indonesia}}->.searchArea;\n",
        "(\n",
        "  node[\"historic\"=\"temple\"](area.searchArea);\n",
        "  way[\"historic\"=\"temple\"](area.searchArea);\n",
        "  relation[\"historic\"=\"temple\"](area.searchArea);\n",
        "  node[\"amenity\"=\"place_of_worship\"][\"religion\"~\"hindu|buddhist\"](area.searchArea);\n",
        "  way[\"amenity\"=\"place_of_worship\"][\"religion\"~\"hindu|buddhist\"](area.searchArea);\n",
        "  relation[\"amenity\"=\"place_of_worship\"][\"religion\"~\"hindu|buddhist\"](area.searchArea);\n",
        ");\n",
        "out center;"
      ],
      "metadata": {
        "id": "LxJDSSjFKJKg"
      },
      "execution_count": null,
      "outputs": []
    },
    {
      "cell_type": "code",
      "source": [
        "gdf_temple_id = gpd.read_file(\"temple_id.geojson\")\n",
        "\n",
        "gdf_temple_id_proj = gdf_temple_id.to_crs(epsg=3857)\n",
        "\n",
        "gdf_temple_id_proj['centroid'] = gdf_temple_id_proj.geometry.centroid\n",
        "\n",
        "gdf_temple_id_centroids = gdf_temple_id_proj.set_geometry('centroid').to_crs(epsg=4326)\n",
        "\n",
        "gdf_temple_id[\"lat\"] = gdf_temple_id_centroids.geometry.y\n",
        "gdf_temple_id[\"lon\"] = gdf_temple_id_centroids.geometry.x\n",
        "\n",
        "gdf_temple_id[\"scene_type\"] = \"temple\"\n",
        "gdf_temple_id[\"country\"] = \"Indonesia\"\n",
        "\n",
        "df_temple_id = gdf_temple_id[[\"country\", \"scene_type\", \"lat\", \"lon\"]]\n",
        "\n",
        "df_temple_id.to_csv(\"temple_id_full.csv\", index=False)\n",
        "print(f\"Saved full coordinate list: {len(df_temple_id)} rows\")"
      ],
      "metadata": {
        "colab": {
          "base_uri": "https://localhost:8080/"
        },
        "id": "UkqtaI-CNuDi",
        "outputId": "df2f2b91-4295-4f82-c5d7-97a1f321b6b4"
      },
      "execution_count": null,
      "outputs": [
        {
          "output_type": "stream",
          "name": "stdout",
          "text": [
            "Saved full coordinate list: 2681 rows\n"
          ]
        }
      ]
    },
    {
      "cell_type": "code",
      "source": [
        "filtered_rows = []\n",
        "print(\"Checking for Street View imagery...\")\n",
        "\n",
        "for idx, row in df_temple_id.iterrows():\n",
        "    lat, lon = row[\"lat\"], row[\"lon\"]\n",
        "    if has_street_view(lat, lon, API_KEY):\n",
        "        filtered_rows.append(row)\n",
        "        if len(filtered_rows) >= 150:\n",
        "            print(\"Reached 150 available samples, stopping early.\")\n",
        "            break\n",
        "    time.sleep(0.1)  # Respect API rate limits\n",
        "\n",
        "# === 10. Save filtered and final sampled CSVs ===\n",
        "df_temple_id_available = pd.DataFrame(filtered_rows)\n",
        "df_temple_id_available.to_csv(\"temple_id_with_streetview.csv\", index=False)\n",
        "print(f\"Filtered: {len(df_temple_id_available)} coordinates with Street View\")\n",
        "\n",
        "df_temple_id_sampled = df_temple_id_available.copy()\n",
        "df_temple_id_sampled.to_csv(\"temple_id_final_sample.csv\", index=False)\n",
        "print(f\"Final sample saved: {len(df_temple_id_sampled)} rows to temple_id_final_sample.csv\")"
      ],
      "metadata": {
        "colab": {
          "base_uri": "https://localhost:8080/"
        },
        "id": "WQTIck_dNuFU",
        "outputId": "7747d8d3-f337-435e-dab5-3d9eca243691"
      },
      "execution_count": null,
      "outputs": [
        {
          "output_type": "stream",
          "name": "stdout",
          "text": [
            "Checking for Street View imagery...\n",
            "Reached 150 available samples, stopping early.\n",
            "Filtered: 150 coordinates with Street View\n",
            "Final sample saved: 150 rows to temple_id_final_sample.csv\n"
          ]
        }
      ]
    }
  ]
}